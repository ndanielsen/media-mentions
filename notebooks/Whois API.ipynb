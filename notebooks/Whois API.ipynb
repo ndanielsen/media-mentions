{
 "cells": [
  {
   "cell_type": "code",
   "execution_count": 11,
   "metadata": {
    "collapsed": false,
    "scrolled": true
   },
   "outputs": [],
   "source": [
    "#!/usr/bin/env python\n",
    "\n",
    "import requests\n",
    "\n",
    "def whoapi_check_domain_taken(domain, apikey):\n",
    "\n",
    "    r = requests.get('http://api.whoapi.com', dict(\n",
    "        domain=domain,\n",
    "        r='whois',\n",
    "        apikey=apikey))\n",
    "    \n",
    "    return r.json()\n",
    "\n"
   ]
  },
  {
   "cell_type": "code",
   "execution_count": 2,
   "metadata": {
    "collapsed": true
   },
   "outputs": [],
   "source": [
    "api= 'b29e9e821cd415169612cc858cc08c4d'"
   ]
  },
  {
   "cell_type": "code",
   "execution_count": 12,
   "metadata": {
    "collapsed": false
   },
   "outputs": [
    {
     "data": {
      "text/plain": [
       "{u'contacts': [{u'city': u'',\n",
       "   u'country': u'',\n",
       "   u'email': u'abuse@godaddy.com',\n",
       "   u'fax': u'',\n",
       "   u'full_address': u'',\n",
       "   u'name': u'',\n",
       "   u'organization': u'GoDaddy.com, LLC',\n",
       "   u'phone': u'+1.4806242505',\n",
       "   u'state': u'',\n",
       "   u'street': u'',\n",
       "   u'type': u'registrar',\n",
       "   u'zipcode': u''},\n",
       "  {u'city': u'Brattleboro',\n",
       "   u'country': u'United States',\n",
       "   u'email': u'gregschneider1@yahoo.com',\n",
       "   u'fax': u'',\n",
       "   u'full_address': u'Greg Schneider\\n3BL Media LLC\\n28 Vernon St\\n05301 Brattleboro\\nVermont\\nUnited States',\n",
       "   u'name': u'Greg Schneider',\n",
       "   u'organization': u'3BL Media LLC',\n",
       "   u'phone': u'+1.8665080993',\n",
       "   u'state': u'Vermont',\n",
       "   u'street': u'28 Vernon St',\n",
       "   u'type': u'registrant',\n",
       "   u'zipcode': u'05301'},\n",
       "  {u'city': u'Brattleboro',\n",
       "   u'country': u'United States',\n",
       "   u'email': u'gregschneider1@yahoo.com',\n",
       "   u'fax': u'',\n",
       "   u'full_address': u'Greg Schneider\\n3BL Media LLC\\n28 Vernon St\\n05301 Brattleboro\\nVermont\\nUnited States',\n",
       "   u'name': u'Greg Schneider',\n",
       "   u'organization': u'3BL Media LLC',\n",
       "   u'phone': u'+1.8665080993',\n",
       "   u'state': u'Vermont',\n",
       "   u'street': u'28 Vernon St',\n",
       "   u'type': u'admin',\n",
       "   u'zipcode': u'05301'},\n",
       "  {u'city': u'Brattleboro',\n",
       "   u'country': u'United States',\n",
       "   u'email': u'gregschneider1@yahoo.com',\n",
       "   u'fax': u'',\n",
       "   u'full_address': u'Greg Schneider\\n3BL Media LLC\\n28 Vernon St\\n05301 Brattleboro\\nVermont\\nUnited States',\n",
       "   u'name': u'Greg Schneider',\n",
       "   u'organization': u'3BL Media LLC',\n",
       "   u'phone': u'+1.8665080993',\n",
       "   u'state': u'Vermont',\n",
       "   u'street': u'28 Vernon St',\n",
       "   u'type': u'tech',\n",
       "   u'zipcode': u'05301'}],\n",
       " u'date_created': u'2009-02-25 16:48:12',\n",
       " u'date_expires': u'2018-02-25 00:00:00',\n",
       " u'date_updated': u'2015-08-27 16:19:46',\n",
       " u'disclaimer': u'The data contained in GoDaddy.com, LLC\\'s WhoIs database,\\nwhile believed by the company to be reliable, is provided \"as is\"\\nwith no guarantee or warranties regarding its accuracy.  This\\ninformation is provided for the sole purpose of assisting you\\nin obtaining information about domain name registration records.\\nAny use of this data for any other purpose is expressly forbidden without the prior written\\npermission of GoDaddy.com, LLC.  By submitting an inquiry,\\nyou agree to these terms of usage and limitations of warranty.  In particular,\\nyou agree not to use this data to allow, enable, or otherwise make possible,\\ndissemination or collection of this data, in part or in its entirety, for any\\npurpose, such as the transmission of unsolicited advertising and\\nand solicitations of any kind, including spam.  You further agree\\nnot to use this data to enable high volume, automated or robotic electronic\\nprocesses designed to collect or compile this data for any purpose,\\nincluding mining this data for your own personal or commercial purposes.',\n",
       " u'domain_status': [u'clientdeleteprohibited http://www.icann.org/epp#clientdeleteprohibited',\n",
       "  u'clientrenewprohibited http://www.icann.org/epp#clientrenewprohibited',\n",
       "  u'clienttransferprohibited http://www.icann.org/epp#clienttransferprohibited',\n",
       "  u'clientupdateprohibited http://www.icann.org/epp#clientupdateprohibited'],\n",
       " u'emails': [u'abuse@godaddy.com', u'gregschneider1@yahoo.com'],\n",
       " u'limit_hit': False,\n",
       " u'nameservers': [u'ns19.domaincontrol.com', u'ns20.domaincontrol.com'],\n",
       " u'premium': False,\n",
       " u'registered': True,\n",
       " u'status': u'0',\n",
       " u'whois_raw': u'Domain Name: 3BLMEDIA.COM\\nRegistry Domain ID: 1544212856_DOMAIN_COM-VRSN\\nRegistrar WHOIS Server: whois.godaddy.com\\nRegistrar URL: http://www.godaddy.com\\nUpdate Date: 2015-08-27T16:19:46Z\\nCreation Date: 2009-02-25T16:48:12Z\\nRegistrar Registration Expiration Date: 2018-02-25T16:48:12Z\\nRegistrar: GoDaddy.com, LLC\\nRegistrar IANA ID: 146\\nRegistrar Abuse Contact Email: abuse@godaddy.com\\nRegistrar Abuse Contact Phone: +1.4806242505\\nDomain Status: clientTransferProhibited http://www.icann.org/epp#clientTransferProhibited\\nDomain Status: clientUpdateProhibited http://www.icann.org/epp#clientUpdateProhibited\\nDomain Status: clientRenewProhibited http://www.icann.org/epp#clientRenewProhibited\\nDomain Status: clientDeleteProhibited http://www.icann.org/epp#clientDeleteProhibited\\nRegistry Registrant ID: \\nRegistrant Name: Greg Schneider\\nRegistrant Organization: 3BL Media LLC\\nRegistrant Street: 28 Vernon St\\nRegistrant City: Brattleboro\\nRegistrant State/Province: Vermont\\nRegistrant Postal Code: 05301\\nRegistrant Country: United States\\nRegistrant Phone: +1.8665080993\\nRegistrant Phone Ext: \\nRegistrant Fax: \\nRegistrant Fax Ext: \\nRegistrant Email: gregschneider1@yahoo.com\\nRegistry Admin ID: \\nAdmin Name: Greg Schneider\\nAdmin Organization: 3BL Media LLC\\nAdmin Street: 28 Vernon St\\nAdmin City: Brattleboro\\nAdmin State/Province: Vermont\\nAdmin Postal Code: 05301\\nAdmin Country: United States\\nAdmin Phone: +1.8665080993\\nAdmin Phone Ext: \\nAdmin Fax: \\nAdmin Fax Ext: \\nAdmin Email: gregschneider1@yahoo.com\\nRegistry Tech ID: \\nTech Name: Greg Schneider\\nTech Organization: 3BL Media LLC\\nTech Street: 28 Vernon St\\nTech City: Brattleboro\\nTech State/Province: Vermont\\nTech Postal Code: 05301\\nTech Country: United States\\nTech Phone: +1.8665080993\\nTech Phone Ext: \\nTech Fax: \\nTech Fax Ext: \\nTech Email: gregschneider1@yahoo.com\\nName Server: NS19.DOMAINCONTROL.COM\\nName Server: NS20.DOMAINCONTROL.COM\\nDNSSEC: unsigned\\nURL of the ICANN WHOIS Data Problem Reporting System: http://wdprs.internic.net/\\n>>> Last update of WHOIS database: 2015-11-15T15:00:00Z <<<\\n\\nFor more information on Whois status codes, please visit https://www.icann.org/resources/pages/epp-status-codes-2014-06-16-en\\n\\nThe data contained in GoDaddy.com, LLC\\'s WhoIs database,\\nwhile believed by the company to be reliable, is provided \"as is\"\\nwith no guarantee or warranties regarding its accuracy.  This\\ninformation is provided for the sole purpose of assisting you\\nin obtaining information about domain name registration records.\\nAny use of this data for any other purpose is expressly forbidden without the prior written\\npermission of GoDaddy.com, LLC.  By submitting an inquiry,\\nyou agree to these terms of usage and limitations of warranty.  In particular,\\nyou agree not to use this data to allow, enable, or otherwise make possible,\\ndissemination or collection of this data, in part or in its entirety, for any\\npurpose, such as the transmission of unsolicited advertising and\\nand solicitations of any kind, including spam.  You further agree\\nnot to use this data to enable high volume, automated or robotic electronic\\nprocesses designed to collect or compile this data for any purpose,\\nincluding mining this data for your own personal or commercial purposes. \\n\\nPlease note: the registrant of the domain name is specified\\nin the \"registrant\" section.  In most cases, GoDaddy.com, LLC \\nis not the registrant of domain names listed in this database.\\n',\n",
       " u'whois_raw_parent': u'\\nWhois Server Version 2.0\\n\\nDomain names in the .com and .net domains can now be registered\\nwith many different competing registrars. Go to http://www.internic.net\\nfor detailed information.\\n\\n   Domain Name: 3BLMEDIA.COM\\n   Registrar: GODADDY.COM, LLC\\n   Sponsoring Registrar IANA ID: 146\\n   Whois Server: whois.godaddy.com\\n   Referral URL: http://registrar.godaddy.com\\n   Name Server: NS19.DOMAINCONTROL.COM\\n   Name Server: NS20.DOMAINCONTROL.COM\\n   Status: clientDeleteProhibited http://www.icann.org/epp#clientDeleteProhibited\\n   Status: clientRenewProhibited http://www.icann.org/epp#clientRenewProhibited\\n   Status: clientTransferProhibited http://www.icann.org/epp#clientTransferProhibited\\n   Status: clientUpdateProhibited http://www.icann.org/epp#clientUpdateProhibited\\n   Updated Date: 27-aug-2015\\n   Creation Date: 25-feb-2009\\n   Expiration Date: 25-feb-2018\\n\\n>>> Last update of whois database: Sun, 15 Nov 2015 15:06:49 GMT <<<\\n\\nNOTICE: The expiration date displayed in this record is the date the \\nregistrar\\'s sponsorship of the domain name registration in the registry is \\ncurrently set to expire. This date does not necessarily reflect the expiration \\ndate of the domain name registrant\\'s agreement with the sponsoring \\nregistrar.  Users may consult the sponsoring registrar\\'s Whois database to \\nview the registrar\\'s reported date of expiration for this registration.\\n\\nTERMS OF USE: You are not authorized to access or query our Whois \\ndatabase through the use of electronic processes that are high-volume and \\nautomated except as reasonably necessary to register domain names or \\nmodify existing registrations; the Data in VeriSign Global Registry \\nServices\\' (\"VeriSign\") Whois database is provided by VeriSign for \\ninformation purposes only, and to assist persons in obtaining information \\nabout or related to a domain name registration record. VeriSign does not \\nguarantee its accuracy. By submitting a Whois query, you agree to abide \\nby the following terms of use: You agree that you may use this Data only \\nfor lawful purposes and that under no circumstances will you use this Data \\nto: (1) allow, enable, or otherwise support the transmission of mass \\nunsolicited, commercial advertising or solicitations via e-mail, telephone, \\nor facsimile; or (2) enable high volume, automated, electronic processes \\nthat apply to VeriSign (or its computer systems). The compilation, \\nrepackaging, dissemination or other use of this Data is expressly \\nprohibited without the prior written consent of VeriSign. You agree not to \\nuse electronic processes that are automated and high-volume to access or \\nquery the Whois database except as reasonably necessary to register \\ndomain names or modify existing registrations. VeriSign reserves the right \\nto restrict your access to the Whois database in its sole discretion to ensure \\noperational stability.  VeriSign may restrict or terminate your access to the \\nWhois database for failure to abide by these terms of use. VeriSign \\nreserves the right to modify these terms at any time. \\n\\nThe Registry database contains ONLY .COM, .NET, .EDU domains and\\nRegistrars.\\n\\nFor more information on Whois status codes, please visit \\nhttps://www.icann.org/resources/pages/epp-status-codes-2014-06-16-en.\\n',\n",
       " u'whois_server': u'whois.godaddy.com'}"
      ]
     },
     "execution_count": 12,
     "metadata": {},
     "output_type": "execute_result"
    }
   ],
   "source": [
    "json = whoapi_check_domain_taken('http://3blmedia.com', api)\n",
    "json"
   ]
  },
  {
   "cell_type": "code",
   "execution_count": 13,
   "metadata": {
    "collapsed": false
   },
   "outputs": [
    {
     "data": {
      "text/plain": [
       "{u'contacts': [{u'city': u'',\n",
       "   u'country': u'',\n",
       "   u'email': u'',\n",
       "   u'fax': u'',\n",
       "   u'full_address': u'DOT JO\\nDOTJO',\n",
       "   u'name': u'DOT JO',\n",
       "   u'organization': u'DOTJO',\n",
       "   u'phone': u'',\n",
       "   u'state': u'',\n",
       "   u'street': u'',\n",
       "   u'type': u'registrant',\n",
       "   u'zipcode': u''}],\n",
       " u'date_created': u'1998-02-28 00:00:00',\n",
       " u'date_expires': u'2016-02-28 00:00:00',\n",
       " u'date_updated': u'2015-04-28 00:00:00',\n",
       " u'disclaimer': u'The data contained in GoDaddy.com, LLC\\'s WhoIs database,\\nwhile believed by the company to be reliable, is provided \"as is\"\\nwith no guarantee or warranties regarding its accuracy.  This\\ninformation is provided for the sole purpose of assisting you\\nin obtaining information about domain name registration records.\\nAny use of this data for any other purpose is expressly forbidden without the prior written\\npermission of GoDaddy.com, LLC.  By submitting an inquiry,\\nyou agree to these terms of usage and limitations of warranty.  In particular,\\nyou agree not to use this data to allow, enable, or otherwise make possible,\\ndissemination or collection of this data, in part or in its entirety, for any\\npurpose, such as the transmission of unsolicited advertising and\\nand solicitations of any kind, including spam.  You further agree\\nnot to use this data to enable high volume, automated or robotic electronic\\nprocesses designed to collect or compile this data for any purpose,\\nincluding mining this data for your own personal or commercial purposes.',\n",
       " u'domain_status': [u'clientdeleteprohibited http://www.icann.org/epp#clientdeleteprohibited',\n",
       "  u'clientrenewprohibited http://www.icann.org/epp#clientrenewprohibited',\n",
       "  u'clienttransferprohibited http://www.icann.org/epp#clienttransferprohibited',\n",
       "  u'clientupdateprohibited http://www.icann.org/epp#clientupdateprohibited'],\n",
       " u'emails': [],\n",
       " u'limit_hit': False,\n",
       " u'nameservers': [u'ns63.domaincontrol.com', u'ns64.domaincontrol.com'],\n",
       " u'premium': False,\n",
       " u'registered': True,\n",
       " u'status': u'0',\n",
       " u'whois_raw': u'Domain Name: JORDANTIMES.COM\\nRegistrar URL: http://www.godaddy.com\\nRegistrant Name: DOT JO\\nRegistrant Organization: DOTJO\\nName Server: NS63.DOMAINCONTROL.COM\\nName Server: NS64.DOMAINCONTROL.COM\\nDNSSEC: unsigned\\n\\nFor complete domain details go to:\\nhttp://who.godaddy.com/whoischeck.aspx?domain=JORDANTIMES.COM\\n\\nThe data contained in GoDaddy.com, LLC\\'s WhoIs database,\\nwhile believed by the company to be reliable, is provided \"as is\"\\nwith no guarantee or warranties regarding its accuracy.  This\\ninformation is provided for the sole purpose of assisting you\\nin obtaining information about domain name registration records.\\nAny use of this data for any other purpose is expressly forbidden without the prior written\\npermission of GoDaddy.com, LLC.  By submitting an inquiry,\\nyou agree to these terms of usage and limitations of warranty.  In particular,\\nyou agree not to use this data to allow, enable, or otherwise make possible,\\ndissemination or collection of this data, in part or in its entirety, for any\\npurpose, such as the transmission of unsolicited advertising and\\nand solicitations of any kind, including spam.  You further agree\\nnot to use this data to enable high volume, automated or robotic electronic\\nprocesses designed to collect or compile this data for any purpose,\\nincluding mining this data for your own personal or commercial purposes. \\n\\nPlease note: the registrant of the domain name is specified\\nin the \"registrant\" section.  In most cases, GoDaddy.com, LLC \\nis not the registrant of domain names listed in this database.\\n',\n",
       " u'whois_raw_parent': u'\\nWhois Server Version 2.0\\n\\nDomain names in the .com and .net domains can now be registered\\nwith many different competing registrars. Go to http://www.internic.net\\nfor detailed information.\\n\\n   Domain Name: JORDANTIMES.COM\\n   Registrar: GODADDY.COM, LLC\\n   Sponsoring Registrar IANA ID: 146\\n   Whois Server: whois.godaddy.com\\n   Referral URL: http://registrar.godaddy.com\\n   Name Server: NS63.DOMAINCONTROL.COM\\n   Name Server: NS64.DOMAINCONTROL.COM\\n   Status: clientDeleteProhibited http://www.icann.org/epp#clientDeleteProhibited\\n   Status: clientRenewProhibited http://www.icann.org/epp#clientRenewProhibited\\n   Status: clientTransferProhibited http://www.icann.org/epp#clientTransferProhibited\\n   Status: clientUpdateProhibited http://www.icann.org/epp#clientUpdateProhibited\\n   Updated Date: 28-apr-2015\\n   Creation Date: 28-feb-1998\\n   Expiration Date: 28-feb-2016\\n\\n>>> Last update of whois database: Sun, 15 Nov 2015 15:12:52 GMT <<<\\n\\nNOTICE: The expiration date displayed in this record is the date the \\nregistrar\\'s sponsorship of the domain name registration in the registry is \\ncurrently set to expire. This date does not necessarily reflect the expiration \\ndate of the domain name registrant\\'s agreement with the sponsoring \\nregistrar.  Users may consult the sponsoring registrar\\'s Whois database to \\nview the registrar\\'s reported date of expiration for this registration.\\n\\nTERMS OF USE: You are not authorized to access or query our Whois \\ndatabase through the use of electronic processes that are high-volume and \\nautomated except as reasonably necessary to register domain names or \\nmodify existing registrations; the Data in VeriSign Global Registry \\nServices\\' (\"VeriSign\") Whois database is provided by VeriSign for \\ninformation purposes only, and to assist persons in obtaining information \\nabout or related to a domain name registration record. VeriSign does not \\nguarantee its accuracy. By submitting a Whois query, you agree to abide \\nby the following terms of use: You agree that you may use this Data only \\nfor lawful purposes and that under no circumstances will you use this Data \\nto: (1) allow, enable, or otherwise support the transmission of mass \\nunsolicited, commercial advertising or solicitations via e-mail, telephone, \\nor facsimile; or (2) enable high volume, automated, electronic processes \\nthat apply to VeriSign (or its computer systems). The compilation, \\nrepackaging, dissemination or other use of this Data is expressly \\nprohibited without the prior written consent of VeriSign. You agree not to \\nuse electronic processes that are automated and high-volume to access or \\nquery the Whois database except as reasonably necessary to register \\ndomain names or modify existing registrations. VeriSign reserves the right \\nto restrict your access to the Whois database in its sole discretion to ensure \\noperational stability.  VeriSign may restrict or terminate your access to the \\nWhois database for failure to abide by these terms of use. VeriSign \\nreserves the right to modify these terms at any time. \\n\\nThe Registry database contains ONLY .COM, .NET, .EDU domains and\\nRegistrars.\\n\\nFor more information on Whois status codes, please visit \\nhttps://www.icann.org/resources/pages/epp-status-codes-2014-06-16-en.\\n',\n",
       " u'whois_server': u'whois.godaddy.com'}"
      ]
     },
     "execution_count": 13,
     "metadata": {},
     "output_type": "execute_result"
    }
   ],
   "source": [
    "json = whoapi_check_domain_taken('http://jordantimes.com', api)\n",
    "json"
   ]
  },
  {
   "cell_type": "code",
   "execution_count": 14,
   "metadata": {
    "collapsed": false
   },
   "outputs": [
    {
     "data": {
      "text/plain": [
       "{u'contacts': [{u'city': u'',\n",
       "   u'country': u'',\n",
       "   u'email': u'domainabuse@tucows.com',\n",
       "   u'fax': u'',\n",
       "   u'full_address': u'',\n",
       "   u'name': u'',\n",
       "   u'organization': u'TUCOWS, INC.',\n",
       "   u'phone': u'+1.4165350123',\n",
       "   u'state': u'',\n",
       "   u'street': u'',\n",
       "   u'type': u'registrar',\n",
       "   u'zipcode': u''},\n",
       "  {u'city': u'Johannesburg',\n",
       "   u'country': u'ZW',\n",
       "   u'email': u'christshani@engineer.com',\n",
       "   u'fax': u'+26.012292712',\n",
       "   u'full_address': u'Chris Kisimba Tshani\\nPOST NEWSPAPERS LTD\\n63 Wessels Rd\\n Johannesburg\\nGauteng\\nZW',\n",
       "   u'name': u'Chris Kisimba Tshani',\n",
       "   u'organization': u'POST NEWSPAPERS LTD',\n",
       "   u'phone': u'+26.097754029  296',\n",
       "   u'state': u'Gauteng',\n",
       "   u'street': u'63 Wessels Rd',\n",
       "   u'type': u'registrant',\n",
       "   u'zipcode': u''},\n",
       "  {u'city': u'Johannesburg',\n",
       "   u'country': u'ZA',\n",
       "   u'email': u'dnsadmin@afrihost.com',\n",
       "   u'fax': u'+27.865529000',\n",
       "   u'full_address': u'Afrihost Support\\nAfrihost\\n63 Wessels Rd\\n2128 Johannesburg\\nGauteng\\nZA',\n",
       "   u'name': u'Afrihost Support',\n",
       "   u'organization': u'Afrihost',\n",
       "   u'phone': u'+27.116127200',\n",
       "   u'state': u'Gauteng',\n",
       "   u'street': u'63 Wessels Rd',\n",
       "   u'type': u'admin',\n",
       "   u'zipcode': u'2128'},\n",
       "  {u'city': u'Johannesburg',\n",
       "   u'country': u'ZA',\n",
       "   u'email': u'dnsadmin@afrihost.com',\n",
       "   u'fax': u'',\n",
       "   u'full_address': u'Afrihost Afrihost\\nAfrihost\\n67 Wessel Rd Rivonia\\n2128 Johannesburg\\nGauteng\\nZA',\n",
       "   u'name': u'Afrihost Afrihost',\n",
       "   u'organization': u'Afrihost',\n",
       "   u'phone': u'+2.7116127200',\n",
       "   u'state': u'Gauteng',\n",
       "   u'street': u'67 Wessel Rd Rivonia',\n",
       "   u'type': u'tech',\n",
       "   u'zipcode': u'2128'}],\n",
       " u'date_created': u'2005-11-03 12:12:30',\n",
       " u'date_expires': u'2016-11-03 00:00:00',\n",
       " u'date_updated': u'2015-11-04 15:02:44',\n",
       " u'disclaimer': u'The Data in the Tucows Registrar WHOIS database is provided to you by Tucows\\nfor information purposes only, and may be used to assist you in obtaining\\ninformation about or related to a domain name\\'s registration record.\\n\\nTucows makes this information available \"as is,\" and does not guarantee its\\naccuracy.\\n\\nBy submitting a WHOIS query, you agree that you will use this data only for\\nlawful purposes and that, under no circumstances will you use this data to:\\na) allow, enable, or otherwise support the transmission by e-mail,\\ntelephone, or facsimile of mass, unsolicited, commercial advertising or\\nsolicitations to entities other than the data recipient\\'s own existing\\ncustomers; or (b) enable high volume, automated, electronic processes that\\nsend queries or data to the systems of any Registry Operator or\\nICANN-Accredited registrar, except as reasonably necessary to register\\ndomain names or modify existing registrations.\\n\\nThe compilation, repackaging, dissemination or other use of this Data is\\nexpressly prohibited without the prior written consent of Tucows.\\n\\nTucows reserves the right to terminate your access to the Tucows WHOIS\\ndatabase in its sole discretion, including without limitation, for excessive\\nquerying of the WHOIS database or for failure to otherwise abide by this\\npolicy.\\n\\nTucows reserves the right to modify these terms at any time.\\n\\nBy submitting this query, you agree to abide by these terms.\\n\\nNOTE: THE WHOIS DATABASE IS A CONTACT DATABASE ONLY.  LACK OF A DOMAIN\\nRECORD DOES NOT SIGNIFY DOMAIN AVAILABILITY.',\n",
       " u'domain_status': [u'clienttransferprohibited http://www.icann.org/epp#clienttransferprohibited',\n",
       "  u'clientupdateprohibited http://www.icann.org/epp#clientupdateprohibited'],\n",
       " u'emails': [u'domainabuse@tucows.com',\n",
       "  u'support@afrihost.com',\n",
       "  u'christshani@engineer.com',\n",
       "  u'dnsadmin@afrihost.com'],\n",
       " u'limit_hit': False,\n",
       " u'nameservers': [u'ns.dns1.co.za',\n",
       "  u'ns.dns2.co.za',\n",
       "  u'ns.otherdns.com',\n",
       "  u'ns.otherdns.net'],\n",
       " u'premium': False,\n",
       " u'registered': True,\n",
       " u'status': u'0',\n",
       " u'whois_raw': u'Domain Name: POSTZAMBIA.COM\\nRegistry Domain ID: 246093159_DOMAIN_COM-VRSN\\nRegistrar WHOIS Server: whois.tucows.com\\nRegistrar URL: http://tucowsdomains.com\\nUpdated Date: 2015-11-04T15:02:44Z\\nCreation Date: 2005-11-03T12:12:30Z\\nRegistrar Registration Expiration Date: 2016-11-03T12:12:30Z\\nRegistrar: TUCOWS, INC.\\nRegistrar IANA ID: 69\\nRegistrar Abuse Contact Email: domainabuse@tucows.com\\nRegistrar Abuse Contact Phone: +1.4165350123\\nReseller: Afrihost\\nReseller: support@afrihost.com\\nReseller: 27116127200\\nDomain Status: clientTransferProhibited\\nDomain Status: clientUpdateProhibited\\nRegistry Registrant ID: \\nRegistrant Name: Chris Kisimba Tshani\\nRegistrant Organization: POST NEWSPAPERS LTD\\nRegistrant Street: 63 Wessels Rd\\nRegistrant City: Johannesburg\\nRegistrant State/Province: Gauteng\\nRegistrant Postal Code: \\nRegistrant Country: ZW\\nRegistrant Phone: +26.097754029\\nRegistrant Phone Ext: 296\\nRegistrant Fax: +26.012292712\\nRegistrant Fax Ext: \\nRegistrant Email: christshani@engineer.com\\nRegistry Admin ID: \\nAdmin Name: Afrihost Support\\nAdmin Organization: Afrihost\\nAdmin Street: 63 Wessels Rd\\nAdmin City: Johannesburg\\nAdmin State/Province: Gauteng\\nAdmin Postal Code: 2128\\nAdmin Country: ZA\\nAdmin Phone: +27.116127200\\nAdmin Phone Ext: \\nAdmin Fax: +27.865529000\\nAdmin Fax Ext: \\nAdmin Email: dnsadmin@afrihost.com\\nRegistry Tech ID: \\nTech Name: Afrihost Afrihost\\nTech Organization: Afrihost\\nTech Street: 67 Wessel Rd Rivonia\\nTech City: Johannesburg\\nTech State/Province: Gauteng\\nTech Postal Code: 2128\\nTech Country: ZA\\nTech Phone: +2.7116127200\\nTech Phone Ext: \\nTech Fax: \\nTech Fax Ext: \\nTech Email: dnsadmin@afrihost.com\\nName Server: NS.DNS1.CO.ZA\\nName Server: NS.DNS2.CO.ZA\\nName Server: NS.OTHERDNS.NET\\nName Server: NS.OTHERDNS.COM\\nDNSSEC: unsigned\\nURL of the ICANN WHOIS Data Problem Reporting System: http://wdprs.internic.net/\\n>>> Last update of WHOIS database: 2015-11-04T15:02:44Z <<<\\n\\nRegistration Service Provider:\\n    Afrihost, support@afrihost.com\\n    27116127200\\n    This company may be contacted for domain login/passwords,\\n    DNS/Nameserver changes, and general domain support questions.\\n\\nThe Data in the Tucows Registrar WHOIS database is provided to you by Tucows\\nfor information purposes only, and may be used to assist you in obtaining\\ninformation about or related to a domain name\\'s registration record.\\n\\nTucows makes this information available \"as is,\" and does not guarantee its\\naccuracy.\\n\\nBy submitting a WHOIS query, you agree that you will use this data only for\\nlawful purposes and that, under no circumstances will you use this data to:\\na) allow, enable, or otherwise support the transmission by e-mail,\\ntelephone, or facsimile of mass, unsolicited, commercial advertising or\\nsolicitations to entities other than the data recipient\\'s own existing\\ncustomers; or (b) enable high volume, automated, electronic processes that\\nsend queries or data to the systems of any Registry Operator or\\nICANN-Accredited registrar, except as reasonably necessary to register\\ndomain names or modify existing registrations.\\n\\nThe compilation, repackaging, dissemination or other use of this Data is\\nexpressly prohibited without the prior written consent of Tucows.\\n\\nTucows reserves the right to terminate your access to the Tucows WHOIS\\ndatabase in its sole discretion, including without limitation, for excessive\\nquerying of the WHOIS database or for failure to otherwise abide by this\\npolicy.\\n\\nTucows reserves the right to modify these terms at any time.\\n\\nBy submitting this query, you agree to abide by these terms.\\n\\nNOTE: THE WHOIS DATABASE IS A CONTACT DATABASE ONLY.  LACK OF A DOMAIN\\nRECORD DOES NOT SIGNIFY DOMAIN AVAILABILITY.\\n\\n',\n",
       " u'whois_raw_parent': u'\\nWhois Server Version 2.0\\n\\nDomain names in the .com and .net domains can now be registered\\nwith many different competing registrars. Go to http://www.internic.net\\nfor detailed information.\\n\\n   Domain Name: POSTZAMBIA.COM\\n   Registrar: TUCOWS DOMAINS INC.\\n   Sponsoring Registrar IANA ID: 69\\n   Whois Server: whois.tucows.com\\n   Referral URL: http://www.tucowsdomains.com\\n   Name Server: NS.DNS1.CO.ZA\\n   Name Server: NS.DNS2.CO.ZA\\n   Name Server: NS.OTHERDNS.COM\\n   Name Server: NS.OTHERDNS.NET\\n   Status: clientTransferProhibited http://www.icann.org/epp#clientTransferProhibited\\n   Status: clientUpdateProhibited http://www.icann.org/epp#clientUpdateProhibited\\n   Updated Date: 04-nov-2015\\n   Creation Date: 03-nov-2005\\n   Expiration Date: 03-nov-2016\\n\\n>>> Last update of whois database: Sun, 15 Nov 2015 15:16:55 GMT <<<\\n\\nNOTICE: The expiration date displayed in this record is the date the \\nregistrar\\'s sponsorship of the domain name registration in the registry is \\ncurrently set to expire. This date does not necessarily reflect the expiration \\ndate of the domain name registrant\\'s agreement with the sponsoring \\nregistrar.  Users may consult the sponsoring registrar\\'s Whois database to \\nview the registrar\\'s reported date of expiration for this registration.\\n\\nTERMS OF USE: You are not authorized to access or query our Whois \\ndatabase through the use of electronic processes that are high-volume and \\nautomated except as reasonably necessary to register domain names or \\nmodify existing registrations; the Data in VeriSign Global Registry \\nServices\\' (\"VeriSign\") Whois database is provided by VeriSign for \\ninformation purposes only, and to assist persons in obtaining information \\nabout or related to a domain name registration record. VeriSign does not \\nguarantee its accuracy. By submitting a Whois query, you agree to abide \\nby the following terms of use: You agree that you may use this Data only \\nfor lawful purposes and that under no circumstances will you use this Data \\nto: (1) allow, enable, or otherwise support the transmission of mass \\nunsolicited, commercial advertising or solicitations via e-mail, telephone, \\nor facsimile; or (2) enable high volume, automated, electronic processes \\nthat apply to VeriSign (or its computer systems). The compilation, \\nrepackaging, dissemination or other use of this Data is expressly \\nprohibited without the prior written consent of VeriSign. You agree not to \\nuse electronic processes that are automated and high-volume to access or \\nquery the Whois database except as reasonably necessary to register \\ndomain names or modify existing registrations. VeriSign reserves the right \\nto restrict your access to the Whois database in its sole discretion to ensure \\noperational stability.  VeriSign may restrict or terminate your access to the \\nWhois database for failure to abide by these terms of use. VeriSign \\nreserves the right to modify these terms at any time. \\n\\nThe Registry database contains ONLY .COM, .NET, .EDU domains and\\nRegistrars.\\n\\nFor more information on Whois status codes, please visit \\nhttps://www.icann.org/resources/pages/epp-status-codes-2014-06-16-en.\\n',\n",
       " u'whois_server': u'whois.tucows.com'}"
      ]
     },
     "execution_count": 14,
     "metadata": {},
     "output_type": "execute_result"
    }
   ],
   "source": [
    "site = 'http://www.postzambia.com'\n",
    "json = whoapi_check_domain_taken(site, api)\n",
    "json"
   ]
  },
  {
   "cell_type": "code",
   "execution_count": null,
   "metadata": {
    "collapsed": true
   },
   "outputs": [],
   "source": []
  }
 ],
 "metadata": {
  "kernelspec": {
   "display_name": "Python 2",
   "language": "python",
   "name": "python2"
  },
  "language_info": {
   "codemirror_mode": {
    "name": "ipython",
    "version": 2
   },
   "file_extension": ".py",
   "mimetype": "text/x-python",
   "name": "python",
   "nbconvert_exporter": "python",
   "pygments_lexer": "ipython2",
   "version": "2.7.10"
  }
 },
 "nbformat": 4,
 "nbformat_minor": 0
}
