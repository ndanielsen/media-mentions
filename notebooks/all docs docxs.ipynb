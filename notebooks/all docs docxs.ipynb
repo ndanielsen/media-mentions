{
 "cells": [
  {
   "cell_type": "code",
   "execution_count": 2,
   "metadata": {
    "collapsed": true
   },
   "outputs": [],
   "source": [
    "import pandas as pd\n",
    "import numpy as np\n",
    "from datetime import datetime\n",
    "pd.set_option('display.max_rows', 5000)"
   ]
  },
  {
   "cell_type": "code",
   "execution_count": 3,
   "metadata": {
    "collapsed": false
   },
   "outputs": [],
   "source": [
    "datafile = '../data/extracted_stories.json'\n",
    "df = pd.read_json(datafile)"
   ]
  },
  {
   "cell_type": "code",
   "execution_count": 4,
   "metadata": {
    "collapsed": false
   },
   "outputs": [],
   "source": [
    "df = df[df.headline!=u'\\xa0']"
   ]
  },
  {
   "cell_type": "code",
   "execution_count": 5,
   "metadata": {
    "collapsed": false
   },
   "outputs": [
    {
     "data": {
      "text/html": [
       "<div>\n",
       "<table border=\"1\" class=\"dataframe\">\n",
       "  <thead>\n",
       "    <tr style=\"text-align: right;\">\n",
       "      <th></th>\n",
       "      <th>date</th>\n",
       "      <th>docx</th>\n",
       "      <th>headline</th>\n",
       "      <th>outlet</th>\n",
       "      <th>topic</th>\n",
       "      <th>url</th>\n",
       "    </tr>\n",
       "  </thead>\n",
       "  <tbody>\n",
       "    <tr>\n",
       "      <th>0</th>\n",
       "      <td>4/13/15</td>\n",
       "      <td>April 13-19</td>\n",
       "      <td>Diversity drives demand for global lessons</td>\n",
       "      <td>District Administration</td>\n",
       "      <td>Changing classroom demographics have compelled...</td>\n",
       "      <td>http://www.districtadministration.com/article/...</td>\n",
       "    </tr>\n",
       "    <tr>\n",
       "      <th>1</th>\n",
       "      <td>4/13/15</td>\n",
       "      <td>April 13-19</td>\n",
       "      <td>Community Development and Continuing Education...</td>\n",
       "      <td>Maan News</td>\n",
       "      <td>Ramallah-maa launched an English program in pa...</td>\n",
       "      <td>http://www.maannews.net/Content.aspx?id=772137</td>\n",
       "    </tr>\n",
       "    <tr>\n",
       "      <th>2</th>\n",
       "      <td>4/15/15</td>\n",
       "      <td>April 13-19</td>\n",
       "      <td>By April 15 – media accreditation for the thir...</td>\n",
       "      <td>Tele Kritika</td>\n",
       "      <td>At the Third International Conference “Practic...</td>\n",
       "      <td>http://www.telekritika.ua/kontekst/2015-04-15/...</td>\n",
       "    </tr>\n",
       "    <tr>\n",
       "      <th>3</th>\n",
       "      <td>4/16/15</td>\n",
       "      <td>April 13-19</td>\n",
       "      <td>3 ways to solve technology access barriers for...</td>\n",
       "      <td>Devex</td>\n",
       "      <td>The easiest way to solve the technology gender...</td>\n",
       "      <td>https://www.devex.com/news/3-ways-to-solve-tec...</td>\n",
       "    </tr>\n",
       "    <tr>\n",
       "      <th>21</th>\n",
       "      <td>4/22/15</td>\n",
       "      <td>April 20-26</td>\n",
       "      <td>Young Leaders to Gather in Accra for First Man...</td>\n",
       "      <td>Spy Ghana</td>\n",
       "      <td>Over 150 young leaders from 21 West African co...</td>\n",
       "      <td>http://www.spyghana.com/young-leaders-to-gathe...</td>\n",
       "    </tr>\n",
       "    <tr>\n",
       "      <th>22</th>\n",
       "      <td>4/23/15</td>\n",
       "      <td>April 20-26</td>\n",
       "      <td>South Africa: First Mandela Washington Fellows...</td>\n",
       "      <td>All Africa</td>\n",
       "      <td>Same as previous</td>\n",
       "      <td>http://allafrica.com/stories/201504231666.html</td>\n",
       "    </tr>\n",
       "    <tr>\n",
       "      <th>23</th>\n",
       "      <td>4/23/15</td>\n",
       "      <td>April 20-26</td>\n",
       "      <td>First Mandela Washington Fellowship Conference...</td>\n",
       "      <td>PR Newswire</td>\n",
       "      <td>Same as previous</td>\n",
       "      <td>http://www.prnewswire.co.uk/news-releases/firs...</td>\n",
       "    </tr>\n",
       "    <tr>\n",
       "      <th>24</th>\n",
       "      <td>4/24/15</td>\n",
       "      <td>April 20-26</td>\n",
       "      <td>The first conference of Mandela Washington Fel...</td>\n",
       "      <td>Star Africa</td>\n",
       "      <td>Same as previous</td>\n",
       "      <td>http://fr.starafrica.com/actualites/la-premier...</td>\n",
       "    </tr>\n",
       "    <tr>\n",
       "      <th>40</th>\n",
       "      <td>4/27/15</td>\n",
       "      <td>April 27 - May 3</td>\n",
       "      <td>Five tips to using media freedom indicies</td>\n",
       "      <td>DW Akademie</td>\n",
       "      <td>This article presents a list of considerations...</td>\n",
       "      <td>http://www.dw.de/five-tips-to-using-media-free...</td>\n",
       "    </tr>\n",
       "    <tr>\n",
       "      <th>41</th>\n",
       "      <td>4/27/15</td>\n",
       "      <td>April 27 - May 3</td>\n",
       "      <td>FIU selected again as Florida site for Obama’s...</td>\n",
       "      <td>FIU News</td>\n",
       "      <td>For the second year in a row, Florida Internat...</td>\n",
       "      <td>http://news.fiu.edu/2015/04/fiu-selected-again...</td>\n",
       "    </tr>\n",
       "    <tr>\n",
       "      <th>42</th>\n",
       "      <td>4/27/15</td>\n",
       "      <td>April 27 - May 3</td>\n",
       "      <td>In Irpen presented first in Ukraine Center for...</td>\n",
       "      <td>Kmu.gov</td>\n",
       "      <td>The Military Medical Clinical Center of the Ar...</td>\n",
       "      <td>http://www.kmu.gov.ua/control/uk/publish/artic...</td>\n",
       "    </tr>\n",
       "    <tr>\n",
       "      <th>43</th>\n",
       "      <td>4/27/15</td>\n",
       "      <td>April 27 - May 3</td>\n",
       "      <td>Near Kiev opened the first in Ukraine Center f...</td>\n",
       "      <td>Unian.net</td>\n",
       "      <td>Same as previous</td>\n",
       "      <td>http://www.unian.net/society/1072156-pod-kievo...</td>\n",
       "    </tr>\n",
       "    <tr>\n",
       "      <th>44</th>\n",
       "      <td>4/27/15</td>\n",
       "      <td>April 27 - May 3</td>\n",
       "      <td>Ethiopia: Conflating terrorism and journalism ...</td>\n",
       "      <td>All Africa</td>\n",
       "      <td>Ethiopia’s anti-terrorism proclamation has bee...</td>\n",
       "      <td>http://allafrica.com/stories/201505041216.html</td>\n",
       "    </tr>\n",
       "  </tbody>\n",
       "</table>\n",
       "</div>"
      ],
      "text/plain": [
       "       date              docx  \\\n",
       "0   4/13/15       April 13-19   \n",
       "1   4/13/15       April 13-19   \n",
       "2   4/15/15       April 13-19   \n",
       "3   4/16/15       April 13-19   \n",
       "21  4/22/15       April 20-26   \n",
       "22  4/23/15       April 20-26   \n",
       "23  4/23/15       April 20-26   \n",
       "24  4/24/15       April 20-26   \n",
       "40  4/27/15  April 27 - May 3   \n",
       "41  4/27/15  April 27 - May 3   \n",
       "42  4/27/15  April 27 - May 3   \n",
       "43  4/27/15  April 27 - May 3   \n",
       "44  4/27/15  April 27 - May 3   \n",
       "\n",
       "                                             headline  \\\n",
       "0          Diversity drives demand for global lessons   \n",
       "1   Community Development and Continuing Education...   \n",
       "2   By April 15 – media accreditation for the thir...   \n",
       "3   3 ways to solve technology access barriers for...   \n",
       "21  Young Leaders to Gather in Accra for First Man...   \n",
       "22  South Africa: First Mandela Washington Fellows...   \n",
       "23  First Mandela Washington Fellowship Conference...   \n",
       "24  The first conference of Mandela Washington Fel...   \n",
       "40          Five tips to using media freedom indicies   \n",
       "41  FIU selected again as Florida site for Obama’s...   \n",
       "42  In Irpen presented first in Ukraine Center for...   \n",
       "43  Near Kiev opened the first in Ukraine Center f...   \n",
       "44  Ethiopia: Conflating terrorism and journalism ...   \n",
       "\n",
       "                     outlet  \\\n",
       "0   District Administration   \n",
       "1                 Maan News   \n",
       "2              Tele Kritika   \n",
       "3                     Devex   \n",
       "21                Spy Ghana   \n",
       "22               All Africa   \n",
       "23              PR Newswire   \n",
       "24              Star Africa   \n",
       "40              DW Akademie   \n",
       "41                 FIU News   \n",
       "42                  Kmu.gov   \n",
       "43                Unian.net   \n",
       "44               All Africa   \n",
       "\n",
       "                                                topic  \\\n",
       "0   Changing classroom demographics have compelled...   \n",
       "1   Ramallah-maa launched an English program in pa...   \n",
       "2   At the Third International Conference “Practic...   \n",
       "3   The easiest way to solve the technology gender...   \n",
       "21  Over 150 young leaders from 21 West African co...   \n",
       "22                                   Same as previous   \n",
       "23                                   Same as previous   \n",
       "24                                   Same as previous   \n",
       "40  This article presents a list of considerations...   \n",
       "41  For the second year in a row, Florida Internat...   \n",
       "42  The Military Medical Clinical Center of the Ar...   \n",
       "43                                   Same as previous   \n",
       "44  Ethiopia’s anti-terrorism proclamation has bee...   \n",
       "\n",
       "                                                  url  \n",
       "0   http://www.districtadministration.com/article/...  \n",
       "1      http://www.maannews.net/Content.aspx?id=772137  \n",
       "2   http://www.telekritika.ua/kontekst/2015-04-15/...  \n",
       "3   https://www.devex.com/news/3-ways-to-solve-tec...  \n",
       "21  http://www.spyghana.com/young-leaders-to-gathe...  \n",
       "22     http://allafrica.com/stories/201504231666.html  \n",
       "23  http://www.prnewswire.co.uk/news-releases/firs...  \n",
       "24  http://fr.starafrica.com/actualites/la-premier...  \n",
       "40  http://www.dw.de/five-tips-to-using-media-free...  \n",
       "41  http://news.fiu.edu/2015/04/fiu-selected-again...  \n",
       "42  http://www.kmu.gov.ua/control/uk/publish/artic...  \n",
       "43  http://www.unian.net/society/1072156-pod-kievo...  \n",
       "44     http://allafrica.com/stories/201505041216.html  "
      ]
     },
     "execution_count": 5,
     "metadata": {},
     "output_type": "execute_result"
    }
   ],
   "source": [
    "df.head(13)"
   ]
  },
  {
   "cell_type": "code",
   "execution_count": 5,
   "metadata": {
    "collapsed": false
   },
   "outputs": [],
   "source": [
    "\n",
    "df.to_csv('irex_media_mention_2015_09.csv', encoding='UTF8', index=False)\n",
    "df.to_pickle"
   ]
  },
  {
   "cell_type": "code",
   "execution_count": 81,
   "metadata": {
    "collapsed": false
   },
   "outputs": [
    {
     "data": {
      "text/plain": [
       "u'0              Diversity drives demand for global lessons\\n1       Community Development and Continuing Education...\\n2       By April 15 \\u2013 media accreditation for the thir...\\n3       3 ways to solve technology access barriers for...\\n21      Young Leaders to Gather in Accra for First Man...\\n22      South Africa: First Mandela Washington Fellows...\\n23      First Mandela Washington Fellowship Conference...\\n24      The first conference of Mandela Washington Fel...\\n40              Five tips to using media freedom indicies\\n41      FIU selected again as Florida site for Obama\\u2019s...\\n42      In Irpen presented first in Ukraine Center for...\\n43      Near Kiev opened the first in Ukraine Center f...\\n44      Ethiopia: Conflating terrorism and journalism ...\\n45      Media freedom around the world: New website of...\\n46      German wave offers Navigator on media freedom ...\\n47      In honor of Press Freedom Day, May 3: DW offer...\\n48      World Press Freedom Day: Experts fault increas...\\n49      Media faces stiff regulation to cover Baku\\u2019s E...\\n50      Educational Qalqiliya involved marathon athlet...\\n51      Hope for fourth estate in Eastern Europe despi...\\n53      Press Releases: Announcement of Host Universit...\\n54      The opening of the Youth Leadership Program in...\\n55      Frozen Conflicts: Professor Anna Ohanyan Set t...\\n74            B-Flow thanks Obama, US for recognizing him\\n75      2 N.J. teachers won a $10K trip to Fiji for ed...\\n76         Hear My Story, I\\u2019m a Girl Who Got an Education\\n77      Qalqilya Al Ahli Club opens the project manage...\\n78                    Africa\\u2019s leading women in tech 2015\\n79      LIBERIA: Senator Pledges to Help Get State Uni...\\n86      Qalqilya Al Ahli Club organizes cycle training...\\n98      Qalqilya Al Ahli Club organizes the Palestinia...\\n99      Qalqilya Al Ahli Club Organizes Career Day 201...\\n100     By 1 September \\u2013 register for a meeting with a...\\n101     Foundation (IREX) and Ahli Club Qalqilya organ...\\n102     Doha Municipality and the club house of the ch...\\n103     Doha Municipality and the club house of the ch...\\n110     Young African leaders complete civic leadershi...\\n111     Exclusive Interview: Chuck Prow on His New Ste...\\n112                              Accessibility technology\\n113     Qalqilya Al Ahli Club concludes the first Ches...\\n114                   The global shame of sex trafficking\\n115     Azerbaijan journalist died, which beat after r...\\n123     USAID Pumps US$290K In Recovery Plan for Ebola...\\n124     Khadija Ismailova--Azerbaijani journalist, pol...\\n125     West has found a new reason to attack Azerbaij...\\n126     Judgment \"open letter to the President\" is a t...\\n127     Foreign agents in the Kremlin [Originally in R...\\n136     Liberia: PUL Resumes Nationwide Senatorial Debate\\n137     Liberia: PUL, IREX Quiz Senatorial Candidates ...\\n138     Telemist Rivne, Cherkasy. Topic - \"Freedom of ...\\n139     Virginia Tech training strengthens universitie...\\n140     A brief excursus into US-Azerbaijani relations...\\n141           PUL, IREX QUIZ SENATORIAL CANDIDATES IN BON\\n142     Ahli Qalqilya embraces a series of meetings am...\\n143     Closing of age Tech Teacher program \"TAT 2014\"...\\n144     Qalqilya: Youth Development Resource Center in...\\n148     ISIS Takeover In Iraq: Mosul University Studen...\\n149     Mehdiyev spoke about the US agents in Azerbaij...\\n150     Liberia: Painful Rules to Cope With Revenue De...\\n151     Liberia: PUL Cautions Journalists - Suspends S...\\n152     Biblionet National Public Opinion Survey (orig...\\n153     New mobile app aims to help improve municipal ...\\n154              The Two Faces of Azerbaijan\\u2019s Government\\n155     Great success enveloping the annual marathon s...\\n156     Deaf TV team produces report on International ...\\n157     Liberia: Radio Gbarnga, Super Bongese Sign Pea...\\n160     Closing of Tech Age Teachers program \\u201cTAT2014\\u201d...\\n161     Development Resource Center organizes meetings...\\n162     Ahli Qalqilya organizes a workshop entitled Et...\\n163      U.S. Official Slams Raid on RFE/RL\\u2019s Baku Bureau\\n164     Baku: Closed Radio Free Europe (Originally in ...\\n165     What does a search and closing Radio Liberty b...\\n166     Azerbaijani Prosecutor continues to harass jou...\\n167      Radio Free Europe Closed (Originally in Bosnian)\\n168     The decline in the office of RSE in Baku (orig...\\n169     The prosecutor\\'s office in Azerbaijan puts a s...\\n170     Azerbaijani authorities threatened to close th...\\n171     Bureau Azattyk in Baku be searched (Originally...\\n172     Azerbaijan intend to close the editor of radio...\\n173     In Baku office of \"Radio Liberty\" is held sear...\\n174     US and OSCE concerned about the actions of the...\\n175     Reid\\'s Baku Bureau radio station \"Freedom\" (Or...\\n176     Azerbaijan Prosecutors Raid Radio Free Europe ...\\n177     Azerbaijani Prosecutor General\\'s Office raided...\\n178     Work Office \"Freedom\" in Baku paralyzed (origi...\\n179           UPDATE: Azerbaijan Raids RFE/RL Baku Bureau\\n180     RFE/RL\\'s Baku Bureau Raided by Prosecutor\\'s Of...\\n181     AZERBAIJAN: RFE/RL\\u2019S BAKU BUREAU FALLS VICTIM ...\\n182     RFE/RL Baku Staff Called For Questioning One D...\\n183     U.S. Official, BBG Slam Raid On RFE/RL\\'s Baku ...\\n184     US State Department concerned raid Baku office...\\n185     The State Department is concerned searched the...\\n186     US concerned about the detention of the Baku o...\\n187     RFE journalists dragged to the Prosecutor in B...\\n188     Police Forcibly Detain RFE/RL Baku Staff for Q...\\n189     In Baku is dangerous to be a journalist (Origi...\\n190     Azerbaijani authorities reject criticism of th...\\n191     Aliyev: We will continue broadcasting in Azerb...\\n192     Baku Office \"Radio Liberty\" sealed on suspicio...\\n193     Congratulates all the people of Qalqilya to wo...\\n194     In PVGUS summed up the international activitie...\\n195     Twelve RFE reporters arrested and interrogated...\\n196     US alarmed by the attack on civil society in A...\\n197     Baku bureau \"Radio Liberty\" was suspected of m...\\n198     Prosecutor \"occupied\" radio newsroom in Azerba...\\n199            RESPONSE TO ANITA HOGE\\'S EXCELLENT ARTICLE\\n200     OSCE representative calls on Azerbaijani autho...\\n201     Liberia: ECC Challenges Accusers to Provide Ev...\\n202     Outernet: Beaming Information To The World\\'s F...\\n203     Experts differed in estimates of the effects o...\\n204     Azerbaijani prosecutor, US radio station searc...\\n205     Accounts of Azerbaijan \"Radio Liberty\" arreste...\\n207     Great success enveloping the annual marathon s...\\n208     Surge In Response Over Jailing Of Azerbaijani ...\\n209     Silatech, IREX Train Palestinian Career Guidan...\\n210     JOURNALISTS anyone. A rare image \"inside\" of A...\\n211     1,000 volumes of books for \\u015eerb\\u0103u\\u0163i Local Libr...\\n212     Azerbaijani investigative journalist for the r...\\n213      Silatech trains Palestinian career guidance team\\n214     Your link\" and \"IREX\" Tderban professional adv...\\n215     Qalqilya Ahli Club organizes youth medical exa...\\n216     Qalqilya Ahli Club honors winners of the best ...\\n217     Ahli Qalqilya honors winners of the best youth...\\n219     US Assistant Secretary welcomes agreement on c...\\n220     Victoria Nuland: \\u201cDuring the Meetings Held in ...\\n221                         Media Group files FOI request\\n222     Politicians and experts in Baku see the need f...\\n223     Otero Junior College welcomes Global UGRAD-Pak...\\n224     Partnership project with young people: Good Sh...\\n225     Good Shepherd celebrates the graduation of 400...\\n231     Four Candidates of Raparin University were ele...\\n232     Neptuni meetings: 8 PER sound guru (Originally...\\n233     The Library Theatre helps immigrants adapt (Or...\\n234                     The Religious Crusades of the CIA\\n235     Toby Smith to discuss, sign \\'Bush League Boys\\'...\\n242     Jericho: the graduation ceremony of 400 traine...\\n243     Youth Development Resource Center at Good Shep...\\n244     At a ceremony organized by the Good Shepherd C...\\n245     RFE/RL: Azeri authorities renew attacks agains...\\n246     Today in Moldova and the world (Originally in ...\\n247     Global UGRAD Students from Pakistan attending ...\\n248     Over 350 public libraries in the country will ...\\n249     Bill & Melinda Gates Foundation, in collaborat...\\n250     AZAD: Nuland hammered the last nail in the cof...\\n251       Ukranian TV Employees Come to Southern Illinois\\n252         Azerbaijan is transforming into a mini-Russia\\n253             Azerbaijan is Behaving like a Mini Russia\\n254                    Through the eyes of \\u2018Global Girls\\u2019\\n255     Chief Sealth HIS launching WA Global Issues Ne...\\n256     Inaugurated the first Gastro Valencia Chill Ou...\\n268                        Finding My Muse While Mourning\\n269                The Media Sustainability Index by IREX\\n270     US ambassador preaches importance of media fre...\\n271         Ukraine military aid alone not enough: Column\\n272     Qalqilya Ahli Club\\u2026 A New Start (Originally in...\\n273     Ahli Club of Qaliqilya and the Open University...\\n274     Hiding in the Swiss embassy Azerbaijani human ...\\n275     Ahli Qalqilya and Al Quds Open University Inau...\\n276     Michael McFaul delivers 2015 Bartels World Aff...\\n277     Ahli Club Qalqilya and Al Quds Open University...\\n285     22 LUMS Students Selected for the Global UGrad...\\n286         Access to Information = Access to Opportunity\\n287                               Work & Volunteer Abroad\\n288            Working toward a quality education for all\\n289     A discussion on deploying drones for internati...\\n290     A discussion on deploying drones for internati...\\n291           Drones \\u2014 the next development game-changer?\\n292     VACANCIES: Washington Fellowship for Young Afr...\\n293          Liberia: The Issue of an Electrocuted Person\\n294     Syria - Safeguarding of press freedom in Syria...\\n295     The life of river Padma: Photography Exhibitio...\\n296             Protests in Ukraine divide on many levels\\n297     Craiova: The \"Drugs do not make you a tragic s...\\n298     Liberia: High School Students Get Journalism T...\\n299     From Different Cultures to be of the Same Feather\\n300     The Gender-Friendly Classroom: Tips and Tools ...\\n301     Can Tunisia\\u2019s emerging civil society have a ro...\\n302     Palette city\\'s cultural life (originally in Ru...\\n303     Public Defender re-named candidate trustees GP...\\n304     Lahore University of Management Sciences stude...\\n305                                   IREX Tech Deep Dive\\n306     Broadcaster \"Guria\" start social projects with...\\n307     TV-Company Guria launches social projects in f...\\n308     Washington popularizes Initiative Young Africa...\\n309     Wellesley Event Calendar \\u2013Women in Africa: Whe...\\n310      Liberia: IREX, CSML Guide Media Against Lawsuits\\n311           Leonid Novohatko \"prestigious cultural BE!\"\\n312     Liberia: Dying to Save Liberia - Rodney Sieh -...\\n313     Renewables are growing pollution is reduced bu...\\n314             We obtain the MBA (originally in Russian)\\n315             We obtain the MBA (originally in Russian)\\n316     Liberia: IREX-Liberia Conducts Second Editors\\'...\\n317              IREX-Liberia Conducts 2nd Editors\\u2019 Forum\\n318               Liberia: Gongloe Blames Journalist Sieh\\n319     The government, the public library and Nikolay...\\n320     Ghana: Penplusbytes Trains Liberian Journalist...\\n321     Media Trained To Play Active Watchdog Role Ove...\\n322     Liberia: Ellen \\'Violated\\' the Law - PUL Presid...\\n323     Until October 18 - Registration for training R...\\n324     Civic Forum EU-Russia discusses freedom of spe...\\n325     Political analyst Veronica Krasheninnikova: \"I...\\n326     Campaign, Be SMART. Discover Suceava (original...\\n327     The Modern Library: Free Internet (originally ...\\n328     Milorad Tadic, the new president ANEM (origina...\\n329     In Sumy library received computers from Bill G...\\n330     Liberia: NAYMOTE Ends Training for 50 Civic Vo...\\n331     USAID to implement major ICT project in Azerba...\\n332     In Sumy libraries opened English courses (orig...\\n333     Key Russia Program Axed Amid U.S. Government Cuts\\n334     14 youths in track code Probation Service teac...\\n335     Liberia: Indelible Savvy - a Renewed Vision fo...\\n336     PHOTO founder of Microsoft Internet brings rea...\\n337     Silvia Dumitrache: \"Children grow and love, no...\\n338     The Obama Administration and the Press: Leak i...\\n339                The Obama Administration and the Press\\n340             We obtain the MBA (originally in Russian)\\n341     Shawnee State University welcomes global UGRAD...\\n342     Sports and literature and shook hands at Sacu ...\\n343     Baku hosts presentation of the film \"Women\\'s A...\\n344     Baku hosts presentation of the American film \"...\\n345     Rivne to be able to go free online(originally ...\\n346     Forced to flee to America because of Manning\\'s...\\n347     Leaks have real impacts on real people - inclu...\\n348     Computer course in English at the library (ori...\\n349     Exploring The Intersection Of Global Pro Bono ...\\n350     Liberia: YES Boss Addresses Water Summit in U.S.A\\n351     In the Rivne region successfully implemented t...\\n352     In the Rivne region under the \"Bibliomist\" com...\\n353     Thanks to the money the Bill and Melinda Gates...\\n354                 Different worlds come closer together\\n355      Slow Stifling of Opposition Papers in Azerbaijan\\n356     Transcarpathian libraries participating in the...\\n357     Ashgabat started a seminar organized by the Ac...\\n358     Belarus: get off easy fright-russophobes provo...\\n359     Plevneliev: Journalism is a foundation of demo...\\n360     Plevneliev: Freedom of speech in Bulgaria is i...\\n361     ASHGABAT HOSTED A SEMINAR ON E-LEARNING (origi...\\n362     What is fundraising for The libraries acceptab...\\n363     The infrastructure of public libraries to brid...\\n364     West Liberty welcomes international students a...\\n365                     Designing a mobile-first newsroom\\n366     Drafting a mobile-first\\'\\' experimental\\'\\' made ...\\n367     Kerch in the Crimea come Culture Minister Alai...\\n368     In the Odessa library opened free English lang...\\n369     Liberia: Language - a Tool for Intercultural U...\\n370     Liberia: Speak Out Against Sexual Exploitation...\\n371      UN Global Alliance on Gender and Media, Part Two\\n372     Internet Center opened in Chernihiv Oblast Lib...\\n373      Liberia: FEJAL Battles Media Sexual Exploitation\\n374                                 90 candles, one flame\\n375     Media Sustainability: further decline of Leban...\\n376     Competition in 2014 to participate in the Teac...\\n377     Anca Cristina R\\xe2peanu is the new director of t...\\n378     President Obama Announces More Key Administrat...\\n379     Children with parents working abroad are given...\\n380     The Public Defender has selected two candidate...\\n381     In Culture discussed the future of Ukrainian a...\\n382     The library opened for children internet facil...\\n383     Network war against Belaya Rus (originally in ...\\n385       Young Leaders Acquire Community Building Skills\\n386     UNESCO and its partners launched the Global Al...\\n387     YOUNG AFRICAN LEADERS APPLY NOW FOR WASHINGTON...\\n388     Maryville College welcomes Global UGRAD-Pakist...\\n389     County Library \"Duiliu\" Innovation Fair in Chi...\\n390     Maxwell School of Syracuse University selected...\\n391     Maxwell School Selected to Host Young African ...\\n392     Maxwell School of Syracuse University selected...\\n393     Young African Leaders Initiative participates ...\\n394     One step forward, two steps back? The gaps bet...\\n395     Azerbaijani authorities do everything to make ...\\n396     Azerbaijani authorities to do everything to th...\\n397     Communications Ministry calls for the protecti...\\n398     Mark Pomar and the U.S. Russia Foundation for ...\\n399     Comatose abroad: US ready to extend Shahzaib\\u2019s...\\n400     Azerbaijani students are free to study in the ...\\n401     \"Critical times call for drastic approaches.\"F...\\n402     Liberia: YES Launches \\'Building a Sustainable ...\\n403                  Remarks at a Solo Press Availability\\n404                               Drones for development?\\n405     Who We Are \\u2013 Tilly Reed: Working for humanity,...\\n406     In Ukraine, the West opens a Pandora\\'s box (or...\\n407     Destroy Ukraine: a plan by $ 5 billion (origin...\\n408     Educational opportunities in the United States...\\n409     Liberia: My Experience With the Daily Observer...\\n410           Meeting with representative of GLOBAL UGRAD\\n411     And Hara connected with the world through Libr...\\n412                  Global Education on a Personal Scale\\n413     Now Accepting Applications For The Global Ugra...\\n414     USA announces 2014-2015 Global UGRAD in Eurasi...\\n415     In Georgia, the increase in the number of list...\\n416                                                Grants\\n417     Global Undergraduate Exchange Program (Global ...\\n418     \\'To restrict internet freedom\\' (originally in ...\\n419     White House Taps U.Va., William & Mary, Presid...\\n420     A Ukrainian journalist\\'s point of view of Ukraine\\n421     Pakistani Chemistry Student Yasha Butt Wins Gr...\\n422      Mason Educators Train Teachers from 20 Countries\\n423                 Global Research Funding Opportunities\\n424     Somaliland: 2nd Somali Peace Festival to be he...\\n425     Bishkek to host Festival of Western languages ...\\n426     Festival of Western Cultures and Languages Wil...\\n427                    Changemakers: Women and governance\\n428     Modern libraries in Harghita county - was succ...\\n429     12 million dollars will be invested in a thous...\\n430     The Republic of Moldova has started a national...\\n431     Royal British Cultural Hall in Resita (origina...\\n432     Nearly 1,000 libraries in Moldova to be upgrad...\\n433     From inside.\\xa0Priests asked to instruct untrain...\\n434            Russia a Popular Market for U.S. Companies\\n435       The Shahzaib Bajwa story: A family gives thanks\\n436                                       Study in Russia\\n437                                          SEA Campaign\\n438     Ukrainian Libraries Help Refugees Adapt to New...\\n439     American writer Larry L. Watts, present at Ove...\\n440      Mozambique: When Party Politics Beats Sisterhood\\n441     Mozambique Becomes First SADC Country to Join ...\\n442     Mozambique joins Alliance for Affordable Internet\\n443            Mozambique first SADC country to join A4AI\\n444           Foreign teachers get instruction at Clemson\\n445                                   Spreading a message\\n446     Library of Latvia we work not with the book, a...\\n447     Pakistani student enjoys Southern hospitality ...\\n448     Study visit to the Library of Latvia (original...\\n449     Another U.S. $ 14 million Azeri revolution (or...\\n450     Development libraries in the 2014-15 biennium ...\\n451     Culture Ministry will undertake the developmen...\\n452        Liberia: VP Boakai On Press Freedom in Liberia\\n453     Plutopia: Nuclear Families, Atomic Cities, and...\\n454                                 How I Became a Leader\\n455          Money for opposition (originally in Russian)\\n456     Proclamation on Community College Initiative D...\\n457     Proclamation on Community College Initiative D...\\n458      Celebrating the Library (originally in Romanian)\\n459     Simpson: America must have courage to help tho...\\n460     The Steering Committee initiative \"Partnership...\\n461                   Liberia: Media Urged to Utilize FOI\\n462     Coro\\u2019s Michael Sider-Rose to participate in Bu...\\n463               Ukrainian journalists visit Daily Press\\n464     Pocahontas teacher goes global on an exchange ...\\n465     WONGOSOL Focuses On Women\\u2019s Participation In 2...\\n466     Dartmouth Joins Obama\\u2019s Initiative for Young A...\\n467           Montgomery Named Kemp Teaching Award Winner\\n468                       Tomczuk Awarded IREX Fellowship\\n469     \"Incompatible Allies. Romania, Finland, Hungar...\\n470     FreeEx Report 2013: \"TVR and SRR is considered...\\n471     EU focuses on media reform in South Med via th...\\n472     The IREX Invites Local Organizations to Partne...\\n473     Mixed Messages: Homophobia, Transphobia and th...\\n474     RAO Publishing authors meet with people from S...\\n475     Liberia: Together for Sustainable Future - Yes...\\n476                  A peaceful Ukraine, and a free press\\n477     Technology in education: Diffuse the \\'hype cycle\\'\\n478     Mehdiyev: \"Ambassador Morningstar should not f...\\n479     Baku floats \"heavy\" artillery: Mehdiyev critic...\\n480     UD hosts President Obama\\'s Washington Fellowsh...\\n481        Confusing state of digital transition reported\\n482     Digital Broadcasting Threatens Eastern Europe\\'...\\n483     Digital Broadcasting Threatens Eastern Europe\\'...\\n484     Digital Broadcasting Threatens Eastern Europe\\u2019...\\n485     Digital Broadcasting Threatens Eastern Europe\\u2019...\\n486     Presenting Embassy\\u2019s Media Partnership Program...\\n487                Comparative politics -- Michael\\xa0McFaul\\n488                Somaliland: Collapsing Freedom Speech\\xa0\\n489                                        In These Hills\\n490     If Mobile Phones Killed the Telecentre, What N...\\n491           Emporia State Student Meets President Obama\\n492     Students in Bucharest meet with experts from M...\\n493     Scientists and industrialists have asked the g...\\n494     Champion for Global Engagement Receives 2014 I...\\n495     Champion for Global Engagement Receives 2014 I...\\n496     Champion for Global Engagement Receives 2014 I...\\n497     Ukrainian journalists visiting the Daily Press...\\n498     Atta Ur Rehman - IREX - Global UGrad Pakistan ...\\n499     Sloya: Win the Good Shepherd on Sazayan Bethle...\\n500     Interview with Dr. Allen Kassof, President of ...\\n501                    News Digest TV market: 1 - June 15\\n502     MedMedia the EU project creates an advisory gr...\\n503     Legal Firms Look for Russians With Experience ...\\n504     Media Literacy Project IREX Fellows Prossy Kaw...\\n505                              Media development \\u2013 IREX\\n507          My American lesson (originally in Ukrainian)\\n508     The 2nd Somali Peace Festival - Film, Photo & Art\\n509     Talk by art historian Christina Kiaer \"The New...\\n510     Media and Technology for Community Development...\\n511     Ongoing projects and programs (originally in R...\\n512     Leaders gather to promote affordable internet ...\\n513     Novatec upgrading the first 350 libraries in M...\\n514     Appalachian receives $183,000 grant to train i...\\n515     There\\'s Something Wrong in Ukraine: How Their ...\\n516     Merzlyakov: Endowment Chernoff or selling free...\\n517     U.S. Department of State Brings 11 Secondary S...\\n518     The International Research and Exchanges Board...\\n519                             Time unique opportunities\\n520                                       Hip Hop Ukraine\\n521                         Liberia: I believe in Liberia\\n522     The freedom of speech in Somaliland is about t...\\n523     Radio Holding Fortuna Will Become More Integra...\\n524                                    Board of Directors\\n525     IREX Expands Work in Civil Society, Media, and...\\n526     New Website Promotes Human Rights, Transitiona...\\n527     IREX make a better world photo contest and win...\\n528             Irex \\u201cMake a Better World\\u201d Photo Contest!\\n529                IREX Make a Better World Photo Contest\\n530           IREX Make a Better World Photo Contest 2014\\n531                IREX Make a Better World Photo Contest\\n532        Liberia: 34 Campaign Violence Monitors Trained\\n533     Washington Fellows gain insight, connections t...\\n534                                        Dr Karen Young\\n538        International Research & Exchange Board (IREX)\\n539     Lawyer Alasgar Mammadov: \"Fatullayev, have a c...\\n540     What is interesting Rivne Oblast bilioteka (or...\\n541               Wacky theories gain Russians\\u2019 attention\\n544                Faculty and Staff Information Handbook\\n545     South Africa: Presidential Summit of the Washi...\\n546     Remarks at the Presidential Summit of the Wash...\\n547     American lawmakers are preparing to declare wa...\\n548     2014 Asian Invitational Exhibition of Graphic ...\\n549     Director of the Institute for Cooperation and ...\\n550           Daily Press hosts second group from Ukraine\\n551     Answering the Call Volunteers Assess Wave of A...\\n552                                   Instability in Iraq\\n553     IREX Make a Better World Photo Contest| IREX- ...\\n554                      Meet Irex\\u2019s Photo Contest Judges\\n555     Human rights activist Rashid Hajili of critici...\\n556     National Youth Leadership Council Hosts IREX F...\\n557     First Person: Project Smile Empowers Youth via...\\n558     IREX: Media in Serbia threatens stagnation or ...\\n559                      ECDL public libraries in Suceava\\n560     New Graduates are now certified by partnering ...\\n561                                       Darra Goldstein\\n562     Journalists perfect knowledge about crimes in ...\\n563     The new court decision in the case Intigam Ali...\\n564     Exchange Program Participants Creating Communi...\\n565     August 15 at Volyn: flipping through the calen...\\n566     Azerbaijan - The main opposition newspaper for...\\n567     The future of public libraries? (originally in...\\n568     The future of public libraries? (originally in...\\n569     Amnesty International and the \"Reporters witho...\\n570     Highlights - Azerbaijan: repressions affect th...\\n571     RWB: Azerbaijan decided to strangle the last c...\\n572     RADFORD UNIVERSITY HOSTS VISITING IRAQI KURDIS...\\n573     Liberia: Ebola - More Than Medical Urgency in ...\\n574     What is Going On in Azerbaijan and Its NGO Sec...\\n575                   MCC welcomes international students\\n576     The works of art on canvas painting made by ch...\\n577              Global UGRAD students welcomed on campus\\n578                    OJC welcomes Global UGRAD students\\n579     Those submitting documents for USAID grant of ...\\n580     Could a Euromaidan happen on Yerevan\\'s Republi...\\n581     An exhibition of children\\'s drawings, Satu Mar...\\n582     Is it possible to \"Independence\" on the Republ...\\n583           OJC welcomes Global UGRAD-Pakistan students\\n584     ROG shocked by continuing repression against j...\\n585                                 Many ways to learning\\n587     An attempt to implement the project antialievs...\\n588        BIBLIOMIST - UKRAINE GLOBAL LIBRARIES PROGRAM \\n589                   More seven NGO bank accounts frozen\\n590     IREX Refutes fudge and biased media (originall...\\n591     Chat transcript: Read the conversation with ou...\\n592     Azerbaijan has brought criminal charges agains...\\n593     RWB: Chairmanship in CoE does not hinder Azerb...\\n594       THE FRONT ROW with BRUCE BOURQUIN, Aug. 8, 2014\\n595     \"Reporters Without Borders\" hit the alarm (for...\\n596     General IREX office rejects the lie in the Aze...\\n597               Heirs Holdings In Partnership With BCIU\\n598                International TV Crew Visits WICU/WSEE\\n599     Romanian peasants shopping on the net ... from...\\n600                      New library, 5 millions of euros\\n601     Libraries: More than 9,000 people have found a...\\n602     MBA doing in Ukraine: 5 reasons to get a busin...\\n603                          \"Lviv Wave\" heard in America\\n604     Baku hosts seminar \\u201cMedia ethics in electoral ...\\n605     Ethics in the media during the election period...\\n606     Competition: NGOs and libraries (translated fr...\\n607         Oro teachers trained on disaster preparedness\\n608     Study Abroad: How to realize a dream? (transla...\\n609     750,000 children who have been abandoned becau...\\n610     Competition cooperation of NGOs with libraries...\\n611     In the library go for advice and help (transla...\\n612     Big Politics in short pants (translated from R...\\n613     Armen Sargysan appointed Armenian Ambassador t...\\n614     Ex-Prime Minister Armen Sarkissian Appointed A...\\n615     Rita Mili\\u016bt\\u0117 led YSU Media Centre (translated ...\\n616     Choir despair.\\xa0A brand Antena 3 concert (trans...\\n617     Liberia: Media Not Reporting Gender Issues - L...\\n618     New report underlines worsening weaknesses of ...\\n619              Third Prize (Tied): Photos - Sumon Yusuf\\n620     Liberia: First Time in the U.S. - a Doting Ref...\\n621     Liberian Journalists a Challenged As PUL Launc...\\n622                 Design for Baghdad\\u2019s New Mega-library\\n623     Liberia: NEC Communications Chief Stresses Cri...\\n624     Liberia: Former Information Minister Calls for...\\n625     Liberia: The Role of the Media in Covering 201...\\n626     Loading seminar \"Modern Library - a successful...\\n627     Investing in culture made it possible to equip...\\n628     Library Innovations for Communities: Creating ...\\n629     Reliability index media: Lebanon steady declin...\\n630     Media sector\\'s sustainability on a downward tr...\\n631     \"Home, but one\" - a film about the life of Rom...\\n632     Liberia: Reflection My Adorable Experiences in...\\n633             The magazine \\'Liberal\\' financial problems\\n634     U.S. Department of State\\'s Global UGRAD-Pakist...\\n635     IREX Short-Term Travel Grants Program \\u2013 for re...\\n636     ICT \\xa0in Liberia: Reviewing 2011, Forecasting 2012\\n637                Pinoy teachers selected for US program\\n638        Supporting Education through SMS in Kyrgyzstan\\n639     5 Pinay teachers in US selected for intl leade...\\n640                                     Grant Competition\\n641     My experience as a Community Solutions Fellow ...\\n642     PPI Travels to Kyrgyzstan to Deliver IREX\\u2019s \\u201cK...\\n643     70 percent support condom access in schools-su...\\n644          Scandal at Regional Broadcasters Association\\n645     Serbia: From Trainee to Trainer: A Serbian Jou...\\n646     Azerbaijani journalist sacked for criticism ag...\\n647     Liberia: Good Governance Training for Media, C...\\n648     B\\u2019nai B\\u2019rith Uncovers UN Ties To Anti-Semitic ...\\n649                 Cartoonist Rejects Anti-Semitic Label\\n650                 IREX, LMC Launch SMS Initiative Today\\n651                                           Job Posting\\n652           IREX, LMC Launch CSML SMS Initiative Today \\n653     IREX Seeks Applications for Short-Term Travel ...\\n654     Liberia Media Center Politicizes USAID/IREX Do...\\n655     IREX teaching fellows on campus - Newsroom for...\\n656     allAfricacom Liberia IREX MidTerm Conference C...\\n657     IREX Mid-Term Conference Commences in Monrovia...\\n658     VP Boakai - Freedom of Speech Must Be Exercise...\\n659     Educator Describes Corruption as \\'Demon Underm...\\n660     IREX President: \\u201cOur Programs Are Assets To Li...\\n661                              LMC Ends Exit Tabulation\\n662     Georgia: Can Facebook Produce Political Shift ...\\n663                      Troy Davis and racism in America\\n664                      Elections 2011 Daily News Review\\n665     Liberia: IREX and LMC Launch Communication Ini...\\n666           Presidential and General Elections Liberia \\n667     Because Accountability Matters\\' - 2011 Electio...\\n668                      Media Must be Conflict Sensitive\\n669     Public Broadcaster on IREX G-MEDIA\\'s informati...\\n670                             IREX Organization Profile\\n671     Two-Day Media Innovation Camp to be Held in Tb...\\n672                  Liberia: PYJ Blacklists Media Houses\\n673     Liberia: Refrain From Becoming \\'Cheering Squad...\\n674     In Preparation for Effective Election Reportin...\\n675     LMC Releases Media Performance Report On 2011 ...\\n676     A proposal to involve public in TV and radio b...\\n677        Azerbaijan to stop analog broadcasting in 2012\\n678     Liberia: Press Union Plans Media Conference On...\\n679     IREX Georgia Media Development Program to be a...\\n680        Conference on Internet Governance held in Baku\\n681     Media Literacy Project IREX Fellows Prossy Kaw...\\n682     IREX invites Papers from American Junior Schol...\\n683                                     IREX Social Media\\n687     Azerbaijan: oil, freedom, and the internationa...\\n688     IREX to provide Azerbaijan\\u2019s regions with free...\\n689          Tajikistan to host Int\\u2019l Education Week 2011\\n690     IREX Georgia Media Development Program to be a...\\n691        Conference on Internet Governance held in Baku\\n692     Media Literacy Project IREX Fellows Prossy Kaw...\\n693           Liberia\\u2019s Run Off Election is Irreversible \\n694     Five Visiting Teachers Bring the World to Wata...\\n695     Azerbaijan offers to provide access to electro...\\n696                     IREX/TEA at Utah State University\\n697     IREX invites Applications for IARO Program to ...\\n698               IREX Shed Light on Social Media in Iraq\\n699                    Armenia\\u2019s capital to host job fair\\n700     Irex Ends Investigative Reporting Training Tom...\\n703     U.S. Department of State Fosters Community Sol...\\n704     \\xa0Civil society opposes licensing of web-TV in ...\\n705         Ugandan Is Advocate for Deaf Women and Girls\\xa0\\n706     WGHS\\'s David Cady To Help Train Coaches In Kyr...\\n707     Tabula Magazine and TI Georgia\\'s Ad Market Report\\n708     George Bournoutian\\'s Armenian history book out...\\n709             IREX Embarks On Gender Sensitive Training\\n710     WATCH: International Scholar Sends Video Messa...\\n711     City Library lands in international programs list\\n712     U.S. Department of State Fosters Community Sol...\\n717     Dagestan teachers got an opportunity to underg...\\n718     LIBERIA: CEMESP-IREX Take Governance To The Pe...\\n719             Handing out an Honor Shield to IREX Iraq \\n720     Meet Asmat Ullah, cultural ambassador of Pakistan\\n721     Training course on youth\\u2019s role in transition ...\\n722     APA Group\\u2019s Director General meets IREX repres...\\n723     Rwanda: Combating Violence Against Women With ...\\n724                     GOL Commends USAID, Carter Center\\n725     Rwanda: Youth Turn Round Rubavu Fortunes Throu...\\n726     IREX announces second stage of Global UGRAD Pr...\\n727     \\xa0Tawakkul Karman: A tool for farcical democrat...\\n728     Liberia: Violating the Constitution Under the ...\\n729     Liberia: Violating the Constitution Under the ...\\n730      Easton History Teacher to Hone Skills in Ukraine\\n731                 Liberia: Citizens X-Ray 2011 Election\\n732     Rwanda: At Iwawa Island, Youth Who Strayed Get...\\n733           Rwanda: Huye Youth Sing for Reconciliation\\xa0\\n734     Muskie Fellows from Armenia, Kazakhstan comple...\\n735     Increasing Political Control of the Media Seen...\\n736        Croatian media best among transition countries\\n737                    Huye Youth Sing for\\xa0Reconciliation\\n738     Israeli journalist to hold master class in Aze...\\n739     IREX: Political, Corporate Pressure Mar Bulgar...\\n740     IREX Warns of Growing Pressure on Albanian Media\\xa0\\n741                Armenia is leading in media condition \\n742            Quality of Bulgarian media \\'deteriorates\\'\\xa0\\n743     Video conference Tbilisi- Washington held at U...\\n744     European Commission launches world-class train...\\n745     U.S. Can Help Iraq Help Itself to Stay on Demo...\\n746     Europe the Top Educational Destination for Geo...\\n747                             ULM to host language fest\\n748        Beverly teacher experiences education in Ghana\\n749     Liberia: New Accountability Tool To Track Serv...\\n750       Radio Tavisupleba Media School Opens In Georgia\\n751       Cassidy Turley Reports More Negative Absorption\\n752     MSU collaboration with Iraqi university under ...\\n753           MSU partners with Iraq to improve curricula\\n754     Mano River Union Journalists in Liberia celebr...\\n755     Media diversity will be important in \\u201912 election\\n756     IREX Welcomes World Press Freedom Fellows in T...\\n757          Liberia: Heritage Named Best Newspaper Again\\n758     Jordan- For rising press freedoms, social netw...\\n759     SPEECH DELIVERED BY PETER QUAQUA, PRESIDENT OF...\\n760            US-Azerbaijan Education Center hosts forum\\n761     How Iraq Is Using Reality TV and Facebook to I...\\n762     \\u2018It\\u2019s a Shame to Forget Actual Journalism\\u2019, IR...\\n763     AFP Foundation among winners of IPI media inno...\\n764         ULM event to shine light on foreign languages\\n765     Internet kiosks in Azerbaijani rural areas to ...\\n766     Azerbaijan\\u2019s ambassador to U.S. reflects on mu...\\n767     Liberia: Irex Reaffirms Commitment to Media De...\\n768        Journalists to be Awarded on Press Freedom Day\\n769     PUL BEGINS WORLD PRESS FREEDOM DAY CELEBRATION...\\n770     USAID/Irex Youth for Change Program closes aft...\\n771           Concord Resident Earns Fulbright Fellowship\\n772       MC REPORTS LOW PROGRESS IN 150-DAY DELIVERABLES\\n773      MU to Help Rebuild Engineering Education in Iraq\\n774     US Department of State Honors Lia Putkaradze o...\\n775     IREX INSTALLS WI-FI SYSTEM IN AZERBAIJAN TECHN...\\n776             CEMESP Releases 2011 Press Freedom Report\\n777       IREX AzTU-DA WI-FI S\\u0130STEM\\u0130 QURA\\u015eDIRIB - YouTube\\n778     Scribes agree on conflict sensitive reporting ...\\n779     IREX Teachers for Global Classrooms - Brazil D...\\n780     IREX Teachers for Global Classrooms \\u2013 Days 3 T...\\n781         Serbian media \\u201cin worst situation since 2000\\u201d\\n782     Beyond Access Makes the Case for Libraries in ...\\n783                IREX Make a Better World Photo Contest\\n784     Iraqis Interested More in Local News Than Demo...\\n785     Independent Survey Ranks Rudaw Iraq\\u2019s Top Kurd...\\n786     USAID and IREX hand over Community Information...\\n787     Media Literacy Project to host two IREX Fellow...\\n788     IREX Receives USIP Grant for Youth Peacebuildi...\\n789     Azerbaijani Communication and IT Ministry to s...\\n790     CEMESP-IREX Roll-Out Good Governance Training ...\\n791                                                      \\n795     Visiting IREX Administrator from Ukraine :: Of...\\n796     allAfrica.com: Liberia: IREX Launches Report O...\\n797             9/11 attacks victims commemorated in Baku\\n798     US embassy community members commemorate 11 Se...\\n799     allAfricacom Liberian Journalist Lauds IREX fo...\\n800     Two Counties Receive CEMESP-IREX Good Governan...\\n801     IREX Launches Digital Journalism Project in Tu...\\n802                 A Thuggish Regime Challenges the U.S.\\n803     Leaders stronger, reduce the world\\'s journalis...\\n816     In Washington, held hearings \"suppression of i...\\n817     Hearings on \\u2018\\u2018suppression of independent voice...\\n818     Threats Cramer: the futility of appeals for a ...\\n819     \"Plainly journalists engaged in self-education...\\n820        Azerbaijan\\u2019s Hidden Crackdown on Civil Society\\n821             Azerbaijan Turns on US-Funded Broadcaster\\n822     Azerbaijan Concerned About Human Rights -- In ...\\n823     Children learn about culture of entrepreneursh...\\n824     AZERBAIJAN\\u2019S HIDDEN CRACKDOWN ON CIVIL SOCIETY...\\n825              What is not being reported in Azerbaijan\\n826     ROG: Azerbaijani President Aliyev has imprison...\\n827     Azerbaijani President has imprisoned journalis...\\n828     Al Jazeera: \\u2018\\u2018Armenian factor\\u2019\\u2019 \\u2013 another popu...\\n831     Al Jazeera: \\xabArmenian factor\" is for the autho...\\n832     The Story of a betrayal: Azerbaijanis formed a...\\n833     Azerbaijanis and Armenians united front in Was...\\n834     Deliberately brushy - to confuse (Originally i...\\n835              What is not being reported in Azerbaijan\\n836     Competition for program development and traini...\\n837     Azerbaijan: 2015 to be a tough year for media,...\\n838     Ahli Club Qalqilya distributes school bags for...\\n839     The distribution of school bags initiative Let...\\n840     Hebron: Palestinian child house organizes days...\\n847     The house of a Palestinian child Club salutes ...\\n848     TCO has invested more than $ 930 million. For ...\\n849             Azerbaijan Doubles Journalist\\'s Jail Time\\n850     Liberia: Irex Begins E-Cap Training for Commun...\\n851     Liberia: Civil Society Ebola Taskforce to Host...\\n852     Azerbaijan Radio Liberty farm (Originally in F...\\n853     Ahli Qalqilya regulates celebration honorary g...\\n854     \"Press Development Institute - Siberia\" is rec...\\n855     BBG calls for release of Khadija Ismayilova (O...\\n856     Qalqilya Ahli Club organizes honorary celebrat...\\n863     Grants Washington and Grenades revolution (our...\\n864     US expert: Europe sluggish responding Azerbaij...\\n865     The office of RFE / RL in Baku in turn affecte...\\n866     Azerbaijani service of \"Radio Liberty\" partial...\\n867     Why arrest Khadija Ismail forced the former di...\\n877     Nagorno-Karabakh: between a rock and a hard place\\n878     With new knowledge about entrepreneurship (Ori...\\n879     Open Democracy: The growth of authoritarianism...\\n880     Open Democracy: Democratic NKR\\u2019s subordination...\\n881     USAID: sustainable development of civil societ...\\n882     IUP administrator named to Global Dialogue Fel...\\n892                                     Growing in Africa\\n893     USAID: Crackdowns on civil society in Azerbaij...\\n894     Integrating Study Abroad Into School Curriculu...\\n895     The Central Library will be held in Slavyansk ...\\n896     \\u201cUnwanted MacArthur\\u201d leave (Originally in Russ...\\n897     Ministry of Culture and the International Rese...\\n898                                     Growing in Africa\\n899                 WDRB News hosts Ukrainian journalists\\n900     In Volyn library can be booked online (Origina...\\n901     The development of local democracy is impossib...\\n907     Trial in Mozambique triggers surge of solidari...\\n908     Vugar Khalilov: West stepped up its efforts on...\\n909     \\u201cIzvestia\\u201d: the Dissertation of the fugitive G...\\n910     Ubiquitous USAID Assistance (originally in Rus...\\n911     South Africa: Department of State and USAID Of...\\n912     Washington Fellowship for Young African Leader...\\n913       Future African leaders merit bipartisan support\\n914     Cultural Exchange Programme: 125 Pak Students ...\\n923     Qalqilya Al Ahli Club opens Initiative (us and...\\n924     Senator slip on the harmonization of \\u201cpatrioti...\\n925     Journalist between two Serbian [Originally in ...\\n926     Language camp for children at the foot at the ...\\n927                                      Fellows in Dover\\n928     Ukrainian Library Association Manifesto \\u201cLibra...\\n929     Qalqilya Al Ahli Club greets Ramadan evening i...\\n938     ASU to host Mandela Washington Fellows from Af...\\n939     Journal of Democracy: Azerbaijan successfully ...\\n940        Belonozhko and his team[Originally in Russian]\\n956     \\'Powerful Girls\\', a network for the leadership...\\n957     The Conference of East Africa is developing th...\\n958     East Africa Conference Builds Next Generation ...\\n959     Qalilya Al Ahli Club celebrated the graduation...\\n960     What he sought and found Ponta Baku[Originally...\\n961     Meet the fellows: 2015 University of Delaware ...\\n962     Virginia Commonwealth University to host Mande...\\n963     The formation of task forces and scouts popula...\\n974                         Send the Bill to the Dictator\\n975     Continuing education and community development...\\n976     International Leaders in Education Program: A ...\\n977     General deterioration in the sustainability of...\\n978     Concerns about deterioration of Bulgarian medi...\\n979     Camfed Ghana holds form for Girls\\u2019 Education O...\\n980     US State Department 2014 report assesses Georg...\\n981     CRC calls for gender inclusion in Liberia cons...\\n982               \\u201cEvaluate policies on female education\\u201d\\n983     Continuous community development and Education...\\n984     The establishment of a children\\u2019s library in D...\\n985     The establishment of a children\\u2019s library in D...\\n986     Within the partnership with young people and t...\\n987                                   2015 MEC Conference\\n988     Ramadan organizing several events in Qalqiliya...\\n989     Azerbaijan Could Be Worse Off without Council ...\\n990     Radio Holding Fortuna Offers Online Services t...\\n991           Operating Library (Originally in Ukrainian)\\n992     How the Tawi-Tawi youth are fighting for the e...\\n993     Azeri Lawyer: recently adopted European Azerba...\\n1000    Innovative Development of University \\u2013 the key...\\n1001    The consolidation of peace in southern Kyrgyzs...\\n1002    The closure of the OSCE office in Baku, the ex...\\n1003    Ahly Qalqilya Club organizes summer camp virgi...\\n1004         Ahli Club Qlquilihaniz[Originally in Arabic]\\n1005    OSCE calls on Azerbaijani government to recons...\\n1006    ROG: DOSB must demand the release of all impri...\\n1007    Release of all imprisoned journalists in Azerb...\\n1019                                   Fellowship Lecture\\n1020    Student Kirovohrad represented Ukraine at the ...\\n1021           Liberia: Ellen to address Ebola Conference\\n1022    Liberia: Information Minister Urges Community ...\\n1023    In 3 developing countries, an effort to deepen...\\n1024    Liberia: President Sirleaf applauds community ...\\n1025    Liberia: Ellen Addresses first Nat\\u2019l Ebola Con...\\n1026    President Sirleaf applauds community leaders a...\\n1027                Liberia: Sirleaf Hails Community Role\\n1028    Visit of delegation from the IREX Foundation (...\\n1029    Liberia: U.S. envoy Malac commends Liberians o...\\n1030                 Liberia: \\u2018I was frightened by Ebola\\u2019\\n1045    IREX links Pakistan, U.S. students through glo...\\n1046    UNC Again Hosting Teachers from Pakistan for P...\\n1047    Former U.S. envoy to Russia delivers Bartels L...\\n1048          New community centre opens in rural Georgia\\n1049    Digital Protect Journalists, manual (Originall...\\n1050    Obama asked to save from death defenders sitti...\\n1051        Azerbaijan Ratchets Up Pressure on Ismayilova\\n1052    Obama is asked to save lives of human rights d...\\n1053    Pictures: KY3 News travels halfway around the ...\\n1054    Ahli Club opens Qalqilya character by characte...\\n1055    Ahli Qalqilya Club will organize a workshop en...\\n1056    Shaping my future in Gender, Agriculture and G...\\n1077    Amy Robach of \\u2018Good Morning America\\u2019 to delive...\\n1078            Ellen hails community role in Ebola fight\\n1079        Ellen applauds community leaders, communities\\n1080    Liberia: Ellen Applauds Community Leaders, Com...\\n1081    Fire destroys University of Liberia Radio \\u2013 Lu...\\n1082    Liberia: Fire Destroys University of Liberia R...\\n1083            Liberia: PUL Launches Several Initiatives\\n1084    Liberia: PUL Mini-Congress Adopts Gender Media...\\n1085    Activists in Azerbaijan being deprived of last...\\n1086    Azerbaijani activists are deprived of the late...\\n1087    Senators, feds, alumni check out latest in res...\\n1103            Liberia: Rape Confab. Gets Underway Today\\n1104    A delegation of Qalqilya Ahli Club visit mixed...\\n1105    Teachers from Koltsovo can join the exchange p...\\n1106    Liberia: Senator Taylor \\u2013 Tackling Rap is an U...\\n1107    Liberia: Report Reveals Absent of Women in New...\\n1108    Reversing the impact of corruption: How stolen...\\n1109    Thirty-One Hours in the Baku Airport: A Q&A wi...\\n1110    Dispatches from Dystopia \\u2013 An Author Night wit...\\n1111    Mozambique hosted the first debate on Citizen ...\\n1112    The opening of the Youth Leadership Program in...\\n1125    Ahli Qalqilya will organize a workshop entitle...\\n1126    USAID, Course Talk, IREX and TASCHA Launch $1....\\n1127    USAID Coursetalk IREX and TASCHA Launch 1.55 M...\\n1128    USAID, CourseTalk, IREX and TASCHA Launch Init...\\n1129    The first conference active youth Ukraine \\u201cGen...\\n1130    With a computer \\u201cyou\\u201d after sixty (originally ...\\n1131    $1.55 million initiative for online education ...\\n1132    How CPJ is working to ensure journalists can p...\\n1133       $1.55M MOOC Project to Expand Global Education\\n1134    Qalqilya Ahli Club opens character by characte...\\n1135    iSchool\\u2019s Technology & Social Change Group to ...\\n1136    Within the partnership with the Youth Project,...\\n1137    Ahli Qalqilya: honoring photojournalism course...\\n1138    March 14 Igor Zhdanov will attend the opening ...\\n1139       $1.55M MOOC Project to Expand Global Education\\n1162    Mancham guest of honor at the Mandela Washingt...\\n1163    Azerbaijan: Radio Free Europe/Radio Liberty Ba...\\n1164    Mozambique hosted the first debate on citizen ...\\n1165         Award-winning journalist Ed Fouhy dies at 80\\n1166    After Ebola: How Civil Society Can Help Mitiga...\\n1167    YALI Mandela Washington Fellows to Convene in ...\\n1168    YALI Mandela Washington Fellows to Convene in ...\\n1169    Edward M. Fouhy, 80; early voice for civic jou...\\n1170    \\u201cReporters without Borders\\u201d urged Azerbaijan t...\\n1177    \"Reporters without Borders\" urged the Azerbaij...\\n1178    American journalist was struck by the story of...\\n1179    Lesson from American journalists for students ...\\n1180    IREX International Foundation organizes worksh...\\n1181    International human rights organizations call ...\\n1182    Founding president: Nothing Can Stop Africa Pr...\\n1183    Grooming the Next Generation of Business Leade...\\n1184    Miniature costumes made by students with \\u201cgold...\\n1192    By June 1 - Registration for the training of p...\\n1193    Business based on innovation[Originally in Rus...\\n1194    For Cuban Journalists, Free Expression is Stil...\\n1207    Hope for fourth estate in Eastern Europe despi...\\n1208    Report: \\u201csoft censorship\\u201d in Bulgaria has seri...\\n1209    Sona Aronian Establishes Armenian Studies Book...\\n1210    Book Prizes for Excellence in Armenian Studies...\\n1211                          Young African leaders at UD\\n1212    How is suppressed independent media in Azerbai...\\n1219    Lofanet Recommends Steps to Aid Ebola Patients...\\n1220          Liberia: Media Seeks Support in Ebola Fight\\n1221    Liberia: Micat Boss Stresses Community Involve...\\n1222    Five Startup Pitches and One Disrupting Compan...\\n1223    Abraji allies with international entity to str...\\n1224    Why teachers must embrace disruptive technologies\\n1225    Liberia: Community Radio and Its Ownership - a...\\n1226    Tunisia: One hundred scholarships in the US un...\\n1227    IREX the M-TAG - the presentation of the (orig...\\n1228    NEWS: Community Radios in North receive techni...\\n1229    Liberia: Community Radio and Its Ownership - a...\\n1230    Why teachers must embrace disruptive technologies\\n1231    Liberia: WHO Reports Over 14,000 Ebola Cases i...\\n1232    Outernet joins rush to deliver free internet i...\\n1233     A Movement That Matters: Trans Rights in Lesotho\\n1234    Tunisia workshop explores ways of supporting i...\\n1235    Some NGOs try to change Azerbaijan\\'s constitut...\\n1236    Fuad Aleskerov: \"The purpose of the legal refo...\\n1237    Fuad Aleskerov on corruption and money laundering\\n1238    \"In Time\" with Oksana Vlasyuk on the results o...\\n1239    Liberia: Senatorial Elections Debate Set for N...\\n1240    FREE DATA FOR EVERYONE, FOREVER: CAN OUTERNET ...\\n1241    Liberia: Senatorial Elections Debate Set for N...\\n1242    FREE DATA FOR EVERYONE, FOREVER: CAN OUTERNET ...\\n1243    University Ranks 31st Nationally in Internatio...\\n1244    Forum for Civic Diplomacy In Tallinn opened th...\\n1245       Liberia: DEN-L to Lead Ebola Awareness in Bong\\n1246    Ahli Qalqulya within the program Youth Develop...\\n1247    Training program promotes course of photojourn...\\n1253    Myanmar to turn public libraries into modern i...\\n1254    Mozambique women journalists discuss elections...\\n1255    Liberia: \\'Journalists Must Go to School\\', INHR...\\n1256    Azerbaijan cracks down on pro-democracy advoca...\\n1257                         Can Libraries Save the MOOC?\\n1258    International organizations express concern: H...\\n1264    ALICOR President: Gov\\u2019t Did Not Appreciate Com...\\n1265    Liberia: Ecap Two Program to Benefit 1.5 Milli...\\n1266    Qalqilya Ahli Club organizes workshop [Origina...\\n1267    Education Telefonica Digital, member of the fi...\\n1268    Press Release \\u2013 Roma Center for Social Interve...\\n1269    Liberia: CSO Plans Memorial Home for Ebola Sur...\\n1270    Global UGRAD-Pakistan Programme announced for ...\\n1271      Learn about Ukraine through art at LSC-Kingwood\\n1279    BBC: Nobody is untouchable in Azerbaijan and i...\\n1280    Why should we care about FireChat, mesh networ...\\n1281                The other victims of Ebola in Liberia\\n1282    From soldiers to peacebuilders: can Liberia\\'s ...\\n1283    Brussels against \"Brussels bubble\" or \\xabMedia N...\\n1284    Second edition of the Knight Center \"Digital T...\\n1285                          Liberia: Radio Bomi Reopens\\n1286    He inaugurated the new headquarters of City Li...\\n1287               USC staffer briefly detained in Russia\\n1288    The newspaper \\u201cEqual evening\\u201d working American...\\n1298                           Heeding a President\\u2019s Call\\n1299    The Syrian Crisis Hits Home: The U.S. Prepares...\\n1300    Rudaw staff mourn UK journalist found dead in ...\\n1301             Death of Jacky Sutton, IWPR\\u2019s Iraq Chief\\n1302    Liberia: Phil Official Underscores Need to Inv...\\n1303      Learn about Ukraine through art at LSC-Kingwood\\n1304    CSO plans memorial home for Ebola Survivors, d...\\n1305    Youth Development sources \\u2013 Center Ahli Club o...\\n1306    Nominations open at Thomas Jefferson Scholarsh...\\n1307    Youth Development sources - Center Ahli Club o...\\n1308    Azerbaijani government\\'s measures to counter t...\\n1309    American journalists have an interview in Khom...\\n1310    Liberia: PUL, Micat Pen MOU On Media Registration\\n1311    E-book \\'Digital Tools for Journalists 2.0\\' win...\\n1312    \\xabIHS Jane\\'s\\xbb: Azerbaijan to refrain from provo...\\n1313                    Daily Press editors visit Ukraine\\n1314    IHS Jane\\'s: Azerbaijan to refrain from provoca...\\n1315                                    Soup from Moldova\\n1316    \\u201cReporters without Borders\\u201d calls on Francois ...\\n1317    The Office of Multicultural Affairs wants you ...\\n1318                               40 years of resilience\\n1319                                       Global Gateway\\n1320    Behind the Break-up of Council of Europe and A...\\n1321    What are the services and social protection in...\\n1322    The Jordan Times\\u2014an enabling environment for w...\\n1324    The US Paralympic athlete of Ukrainian descent...\\n1325    Liberia: UNESCO Educates Rural Broadcasters on...\\n1326    Open letter to Fran\\xe7ois Hollande highlights de...\\n1327    \"Reporters without Borders\" urged French Presi...\\n1328    Career Profile: Samantha McLean, IREX and the ...\\n1329     The world comes together to learn about business\\n1330    Myanmar to turn public libraries into modern i...\\n1331    SEE\\'s media market can be measured by one part...\\n1332    On time. Guest program - Ryan Hilkrest - deput...\\n1336    Rethinking the Ebola response: How Liberians h...\\n1337    Marisa Porto: \\u201cTen life lessons of Ukrainian j...\\n1338    Liberia: Listening to John Kollie\\u2019s Program \\u2013 ...\\n1339       Liberia: Study Rates Inquirer High for Grammar\\n1340    Report Showcases Improved Media Performances O...\\n1341        Liberia: DEN-L Holds Stakeholder\\u2019s Engagement\\n1342    Liberia: Report Showcases Improved Media Perfo...\\n1343    Liberia: Ebola Accountability Monitoring Repor...\\n1350    Liberia: CSOs Ebola Taskforce Opens Situation ...\\n1351    2015 Mandela Washington Fellowship Application...\\n1352         Liberia: SKD Logistics Hub Begins Operations\\n1353    Non-governmental organization IREX ceased oper...\\n1354    Thomas de Waal: The authorities of the United ...\\n1355     IREX stops in Azerbaijan (Originally in Russian)\\n1356    Ministry of Culture will continue to work with...\\n1357    IREX Azerbaijan leaves on a background investi...\\n1358    Sibiu Libraries Network Expands with \\xa0a New pu...\\n1359    IREX NGO\\u2019s exit from Azerbaijan \\u2018A Blow\\u2019 says ...\\n1360    United States Department of State makes the ex...\\n1361    RSF condemns the imprisonment of an opposition...\\n1362    Azerbaijan cracks down while chairing Council ...\\n1363    Azerbaijan cracks down while chairing Council ...\\n1364    United States Department of State: Close IREX ...\\n1365    Thomas de Waal: Azerbaijan should listen caref...\\n1366    American NGO IREX ceases its activities in Aze...\\n1367                   Corruption, Crime, Terrorism Event\\n1368                                  A lens to the front\\n1369    New in SitRep this morning: The U.S. Institute...\\n1370     Kristin Lord Appointed New President/CEO Of IREX\\n1371               Liberia: Ebola Treatment Center Closed\\n1372       Liberia: \\'West Point Is Heartbeat of Monrovia\\'\\n1373    \"Nairi\": an acute shortage of tourists (origin...\\n1374    People with disabilities and senior citizens a...\\n1375            Azerbaijani Officials Raid U.S.-Based NGO\\n1376             Washington-area appointments for Sept. 8\\n1377    Crimean News: Baku stormed the office of IREX ...\\n1378    The Prosecutor\\'s Office of Azerbaijan seized e...\\n1379    In Baku, stormed the office of IREX (originall...\\n1380    Baku - raided the offices of the American orga...\\n1381    A Community Outfit Receives $10,000 From The E...\\n1384    Ukrainian Public Libraries: upgrading or death...\\n1385    American \\xa0TV journalists shared their experien...\\n1386    It is the first of its kind in Jordan\\u2014A panel ...\\n1387    RDL Participants End W/Shop On Healthier Commu...\\n1388    Jordan, a seminar on gender and sport [Origina...\\n1389    Foundation (IREX) and Ahli Club Qalqilya organ...\\n1400    We are changing the name of a respectable (ori...\\n1401    Somaliland: The 2nd Somali Peace Festival Gets...\\n1402        Liberia: 83 Ebola Victims Died in Three Weeks\\n1403        USAID, Partner Donate Equipment to Radio Bomi\\n1404                  Liberia: IREX donates to Radio Bomi\\n1405    Time to change the storyline on local Ebola re...\\n1406    County Library \\u201cGTKIRILEANU\\u201d Neamt Partnership...\\n1407         Liberia: WHO Wants Ebola Survivors Accepted \\n1408    \\u201cAzadlig\\u201d: The Azerbaijani authorities are pre...\\n1409    Azerbaijani officials harassed an American NGO...\\n1411    Qalqilya Ahli Club organizes a workshop identi...\\n1412    Liberia: Global Communities Tightlipped On Ove...\\n1427    The United States Urges the Azerbaijani Author...\\n1428    U.S. Urge Azerbaijani authorities to be respon...\\n1429    Armenian agents in the center of Baku-millions...\\n1430                    Discussion Forum \\u201cUkraine at War\\u201d\\n1431    Azerbaijan continues \\u201chunting Armenian spies\\u201d ...\\n1432    Welcoming Remarks Young African Leaders Initia...\\n1433                  GSCC Welcomes Global UGRAD Students\\n1434    City Guide, \\u201cseen and unseen\\u201d video game conso...\\n1435                      Liberia: Logistics Hub, not ETU\\n1436    September 26th. Calendar Kazinform \\u201cDate.Event...\\n1437                Azerbaijan Doesn\\u2019t Want to Be Western\\n1438    Library of Bucovina, Suceava assaulted (I thin...\\n1439    Hundreds of participants from \\u201cNocturnal Libra...\\n1440    Connecting the next 4 billion: How access to i...\\n1441                                 The Fragility Within\\n1442    Messengers of Peace\\u2014Dialogue Among Peace Messe...\\n1443    Plan for information programs is irreversible ...\\n1444    Apply Now for the 2016 Mandela Washington Fell...\\n1445    In library told Ilovaysk\\u2014In the Library Networ...\\n1446          10 lessons in life, journalism from Ukraine\\n1462    De Waal: In Azerbaijani prisons are 98 politic...\\n1463                              From Bulgaria to Boston\\n1464    Governance Challenges, Social Barriers, and th...\\n1465    Azerbaijan doesn\\u2019t want to be Western: Thomas ...\\n1466    New Program to Introduce internet to Myanmar\\u2019s...\\n1467    Three Romanians on New Europe 100 Innovators list\\n1468                          Time for Sanctions on Banku\\n1469    Head of Freedom House and ex-US ambassador to ...\\n1476    Kirkwood Welcomes Thomas Jefferson Scholarship...\\n1477    Liberia: Lack of Reporting on Ebola Funds Acco...\\n1478          CEMESP Launches Report On Media Performance\\n1479                              Fellows inspire, ignite\\n1480    A course in photography at the Quad-Ahly Qalqi...\\n1481    Qalqilya Al Ahli Club organizes photography co...\\n1482    Work Vinnitsa American journalists interested ...\\n1483    Zimbabwean Attached to American NGO Getting Cr...\\n1484    American TV journalists shared their experienc...\\n1492    Estonian Faces Spy Charge in Moscow, NATO Memb...\\n1493    September 11 NSZHU - media training for traine...\\n1494                       Grant brings the world to SRJC\\n1495                  Liberia: Ebola Center Not Completed\\n1496            Economic growth now pegged to IT services\\n1497    Azerbaijan Tightens Screws On Civil Society, I...\\n1498    EU, U.S. Launch New Russia Sanctions, Anti-Gra...\\n1499                  Women\\u2019s issues are men\\u2019s issues too\\n1500    NGO adamantly strike the Azerbaijani President...\\n1501               Azerbaijan urged to execute \"traitors\"\\n1502    Belmont to host lecture on Russo-Iranian relat...'"
      ]
     },
     "execution_count": 81,
     "metadata": {},
     "output_type": "execute_result"
    }
   ],
   "source": [
    "# df.headline.to_string()"
   ]
  },
  {
   "cell_type": "code",
   "execution_count": 84,
   "metadata": {
    "collapsed": false
   },
   "outputs": [
    {
     "ename": "IndexError",
     "evalue": "tuple index out of range",
     "output_type": "error",
     "traceback": [
      "\u001b[0;31m---------------------------------------------------------------------------\u001b[0m",
      "\u001b[0;31mIndexError\u001b[0m                                Traceback (most recent call last)",
      "\u001b[0;32m<ipython-input-84-f82b5aa9ab10>\u001b[0m in \u001b[0;36m<module>\u001b[0;34m()\u001b[0m\n\u001b[1;32m     25\u001b[0m                stopwords=STOPWORDS.add(\"said\"))\n\u001b[1;32m     26\u001b[0m \u001b[0;31m# generate word cloud\u001b[0m\u001b[0;34m\u001b[0m\u001b[0;34m\u001b[0m\u001b[0m\n\u001b[0;32m---> 27\u001b[0;31m \u001b[0mwc\u001b[0m\u001b[0;34m.\u001b[0m\u001b[0mgenerate\u001b[0m\u001b[0;34m(\u001b[0m\u001b[0mtext\u001b[0m\u001b[0;34m)\u001b[0m\u001b[0;34m\u001b[0m\u001b[0m\n\u001b[0m\u001b[1;32m     28\u001b[0m \u001b[0;34m\u001b[0m\u001b[0m\n\u001b[1;32m     29\u001b[0m \u001b[0;31m# # store to file\u001b[0m\u001b[0;34m\u001b[0m\u001b[0;34m\u001b[0m\u001b[0m\n",
      "\u001b[0;32m/Users/ndanielsen/.virtualenvs/irexmedia/lib/python2.7/site-packages/wordcloud/wordcloud.pyc\u001b[0m in \u001b[0;36mgenerate\u001b[0;34m(self, text)\u001b[0m\n\u001b[1;32m    415\u001b[0m         \u001b[0mself\u001b[0m\u001b[0;34m\u001b[0m\u001b[0m\n\u001b[1;32m    416\u001b[0m         \"\"\"\n\u001b[0;32m--> 417\u001b[0;31m         \u001b[0;32mreturn\u001b[0m \u001b[0mself\u001b[0m\u001b[0;34m.\u001b[0m\u001b[0mgenerate_from_text\u001b[0m\u001b[0;34m(\u001b[0m\u001b[0mtext\u001b[0m\u001b[0;34m)\u001b[0m\u001b[0;34m\u001b[0m\u001b[0m\n\u001b[0m\u001b[1;32m    418\u001b[0m \u001b[0;34m\u001b[0m\u001b[0m\n\u001b[1;32m    419\u001b[0m     \u001b[0;32mdef\u001b[0m \u001b[0m_check_generated\u001b[0m\u001b[0;34m(\u001b[0m\u001b[0mself\u001b[0m\u001b[0;34m)\u001b[0m\u001b[0;34m:\u001b[0m\u001b[0;34m\u001b[0m\u001b[0m\n",
      "\u001b[0;32m/Users/ndanielsen/.virtualenvs/irexmedia/lib/python2.7/site-packages/wordcloud/wordcloud.pyc\u001b[0m in \u001b[0;36mgenerate_from_text\u001b[0;34m(self, text)\u001b[0m\n\u001b[1;32m    401\u001b[0m         \"\"\"\n\u001b[1;32m    402\u001b[0m         \u001b[0mwords\u001b[0m \u001b[0;34m=\u001b[0m \u001b[0mself\u001b[0m\u001b[0;34m.\u001b[0m\u001b[0mprocess_text\u001b[0m\u001b[0;34m(\u001b[0m\u001b[0mtext\u001b[0m\u001b[0;34m)\u001b[0m\u001b[0;34m\u001b[0m\u001b[0m\n\u001b[0;32m--> 403\u001b[0;31m         \u001b[0mself\u001b[0m\u001b[0;34m.\u001b[0m\u001b[0mgenerate_from_frequencies\u001b[0m\u001b[0;34m(\u001b[0m\u001b[0mwords\u001b[0m\u001b[0;34m)\u001b[0m\u001b[0;34m\u001b[0m\u001b[0m\n\u001b[0m\u001b[1;32m    404\u001b[0m         \u001b[0;32mreturn\u001b[0m \u001b[0mself\u001b[0m\u001b[0;34m\u001b[0m\u001b[0m\n\u001b[1;32m    405\u001b[0m \u001b[0;34m\u001b[0m\u001b[0m\n",
      "\u001b[0;32m/Users/ndanielsen/.virtualenvs/irexmedia/lib/python2.7/site-packages/wordcloud/wordcloud.pyc\u001b[0m in \u001b[0;36mgenerate_from_frequencies\u001b[0;34m(self, frequencies)\u001b[0m\n\u001b[1;32m    251\u001b[0m         \u001b[0;32mif\u001b[0m \u001b[0mself\u001b[0m\u001b[0;34m.\u001b[0m\u001b[0mmask\u001b[0m \u001b[0;32mis\u001b[0m \u001b[0;32mnot\u001b[0m \u001b[0mNone\u001b[0m\u001b[0;34m:\u001b[0m\u001b[0;34m\u001b[0m\u001b[0m\n\u001b[1;32m    252\u001b[0m             \u001b[0mmask\u001b[0m \u001b[0;34m=\u001b[0m \u001b[0mself\u001b[0m\u001b[0;34m.\u001b[0m\u001b[0mmask\u001b[0m\u001b[0;34m\u001b[0m\u001b[0m\n\u001b[0;32m--> 253\u001b[0;31m             \u001b[0mwidth\u001b[0m \u001b[0;34m=\u001b[0m \u001b[0mmask\u001b[0m\u001b[0;34m.\u001b[0m\u001b[0mshape\u001b[0m\u001b[0;34m[\u001b[0m\u001b[0;36m1\u001b[0m\u001b[0;34m]\u001b[0m\u001b[0;34m\u001b[0m\u001b[0m\n\u001b[0m\u001b[1;32m    254\u001b[0m             \u001b[0mheight\u001b[0m \u001b[0;34m=\u001b[0m \u001b[0mmask\u001b[0m\u001b[0;34m.\u001b[0m\u001b[0mshape\u001b[0m\u001b[0;34m[\u001b[0m\u001b[0;36m0\u001b[0m\u001b[0;34m]\u001b[0m\u001b[0;34m\u001b[0m\u001b[0m\n\u001b[1;32m    255\u001b[0m             \u001b[0;32mif\u001b[0m \u001b[0mmask\u001b[0m\u001b[0;34m.\u001b[0m\u001b[0mdtype\u001b[0m\u001b[0;34m.\u001b[0m\u001b[0mkind\u001b[0m \u001b[0;34m==\u001b[0m \u001b[0;34m'f'\u001b[0m\u001b[0;34m:\u001b[0m\u001b[0;34m\u001b[0m\u001b[0m\n",
      "\u001b[0;31mIndexError\u001b[0m: tuple index out of range"
     ]
    }
   ],
   "source": [
    "# \"\"\"\n",
    "# Masked wordcloud\n",
    "# ================\n",
    "# Using a mask you can generate wordclouds in arbitrary shapes.\n",
    "# \"\"\"\n",
    "\n",
    "# from os import path\n",
    "# from PIL import Image\n",
    "# import numpy as np\n",
    "# import matplotlib.pyplot as plt\n",
    "\n",
    "# from wordcloud import WordCloud, STOPWORDS\n",
    "\n",
    "# # d = path.dirname(__file__)\n",
    "\n",
    "# # Read the whole text.\n",
    "# text = df.headline.to_string()\n",
    "\n",
    "# # read the mask image\n",
    "# # taken from\n",
    "# # http://www.stencilry.org/stencils/movies/alice%20in%20wonderland/255fk.jpg\n",
    "# alice_mask = np.array(Image.open(\"../x-files.jpg\"))\n",
    "\n",
    "# wc = WordCloud(background_color=\"white\", max_words=2000, mask=alice_mask,\n",
    "#                stopwords=STOPWORDS.add(\"said\"))\n",
    "# # generate word cloud\n",
    "# wc.generate?\n",
    "\n",
    "# # # store to file\n",
    "# # wc.to_file(\"../x-files.jpg\")\n",
    "\n",
    "# # # show\n",
    "# # plt.imshow(wc)\n",
    "# # plt.axis(\"off\")\n",
    "# # plt.figure()\n",
    "# # plt.imshow(alice_mask, cmap=plt.cm.gray)\n",
    "# # plt.axis(\"off\")\n",
    "# # plt.show()"
   ]
  },
  {
   "cell_type": "code",
   "execution_count": 86,
   "metadata": {
    "collapsed": false
   },
   "outputs": [
    {
     "ename": "ImportError",
     "evalue": "The _imagingft C module is not installed",
     "output_type": "error",
     "traceback": [
      "\u001b[0;31m---------------------------------------------------------------------------\u001b[0m",
      "\u001b[0;31mImportError\u001b[0m                               Traceback (most recent call last)",
      "\u001b[0;32m<ipython-input-86-6f88163e50ab>\u001b[0m in \u001b[0;36m<module>\u001b[0;34m()\u001b[0m\n\u001b[1;32m      9\u001b[0m \u001b[0;34m\u001b[0m\u001b[0m\n\u001b[1;32m     10\u001b[0m \u001b[0;31m# Generate a word cloud image\u001b[0m\u001b[0;34m\u001b[0m\u001b[0;34m\u001b[0m\u001b[0m\n\u001b[0;32m---> 11\u001b[0;31m \u001b[0mwordcloud\u001b[0m \u001b[0;34m=\u001b[0m \u001b[0mWordCloud\u001b[0m\u001b[0;34m(\u001b[0m\u001b[0;34m)\u001b[0m\u001b[0;34m.\u001b[0m\u001b[0mgenerate\u001b[0m\u001b[0;34m(\u001b[0m\u001b[0mtext\u001b[0m\u001b[0;34m)\u001b[0m\u001b[0;34m\u001b[0m\u001b[0m\n\u001b[0m\u001b[1;32m     12\u001b[0m \u001b[0;34m\u001b[0m\u001b[0m\n\u001b[1;32m     13\u001b[0m \u001b[0;31m# Display the generated image:\u001b[0m\u001b[0;34m\u001b[0m\u001b[0;34m\u001b[0m\u001b[0m\n",
      "\u001b[0;32m/Users/ndanielsen/.virtualenvs/irexmedia/lib/python2.7/site-packages/wordcloud/wordcloud.pyc\u001b[0m in \u001b[0;36mgenerate\u001b[0;34m(self, text)\u001b[0m\n\u001b[1;32m    415\u001b[0m         \u001b[0mself\u001b[0m\u001b[0;34m\u001b[0m\u001b[0m\n\u001b[1;32m    416\u001b[0m         \"\"\"\n\u001b[0;32m--> 417\u001b[0;31m         \u001b[0;32mreturn\u001b[0m \u001b[0mself\u001b[0m\u001b[0;34m.\u001b[0m\u001b[0mgenerate_from_text\u001b[0m\u001b[0;34m(\u001b[0m\u001b[0mtext\u001b[0m\u001b[0;34m)\u001b[0m\u001b[0;34m\u001b[0m\u001b[0m\n\u001b[0m\u001b[1;32m    418\u001b[0m \u001b[0;34m\u001b[0m\u001b[0m\n\u001b[1;32m    419\u001b[0m     \u001b[0;32mdef\u001b[0m \u001b[0m_check_generated\u001b[0m\u001b[0;34m(\u001b[0m\u001b[0mself\u001b[0m\u001b[0;34m)\u001b[0m\u001b[0;34m:\u001b[0m\u001b[0;34m\u001b[0m\u001b[0m\n",
      "\u001b[0;32m/Users/ndanielsen/.virtualenvs/irexmedia/lib/python2.7/site-packages/wordcloud/wordcloud.pyc\u001b[0m in \u001b[0;36mgenerate_from_text\u001b[0;34m(self, text)\u001b[0m\n\u001b[1;32m    401\u001b[0m         \"\"\"\n\u001b[1;32m    402\u001b[0m         \u001b[0mwords\u001b[0m \u001b[0;34m=\u001b[0m \u001b[0mself\u001b[0m\u001b[0;34m.\u001b[0m\u001b[0mprocess_text\u001b[0m\u001b[0;34m(\u001b[0m\u001b[0mtext\u001b[0m\u001b[0;34m)\u001b[0m\u001b[0;34m\u001b[0m\u001b[0m\n\u001b[0;32m--> 403\u001b[0;31m         \u001b[0mself\u001b[0m\u001b[0;34m.\u001b[0m\u001b[0mgenerate_from_frequencies\u001b[0m\u001b[0;34m(\u001b[0m\u001b[0mwords\u001b[0m\u001b[0;34m)\u001b[0m\u001b[0;34m\u001b[0m\u001b[0m\n\u001b[0m\u001b[1;32m    404\u001b[0m         \u001b[0;32mreturn\u001b[0m \u001b[0mself\u001b[0m\u001b[0;34m\u001b[0m\u001b[0m\n\u001b[1;32m    405\u001b[0m \u001b[0;34m\u001b[0m\u001b[0m\n",
      "\u001b[0;32m/Users/ndanielsen/.virtualenvs/irexmedia/lib/python2.7/site-packages/wordcloud/wordcloud.pyc\u001b[0m in \u001b[0;36mgenerate_from_frequencies\u001b[0;34m(self, frequencies)\u001b[0m\n\u001b[1;32m    285\u001b[0m             \u001b[0;32mwhile\u001b[0m \u001b[0mTrue\u001b[0m\u001b[0;34m:\u001b[0m\u001b[0;34m\u001b[0m\u001b[0m\n\u001b[1;32m    286\u001b[0m                 \u001b[0;31m# try to find a position\u001b[0m\u001b[0;34m\u001b[0m\u001b[0;34m\u001b[0m\u001b[0m\n\u001b[0;32m--> 287\u001b[0;31m                 \u001b[0mfont\u001b[0m \u001b[0;34m=\u001b[0m \u001b[0mImageFont\u001b[0m\u001b[0;34m.\u001b[0m\u001b[0mtruetype\u001b[0m\u001b[0;34m(\u001b[0m\u001b[0mself\u001b[0m\u001b[0;34m.\u001b[0m\u001b[0mfont_path\u001b[0m\u001b[0;34m,\u001b[0m \u001b[0mfont_size\u001b[0m\u001b[0;34m)\u001b[0m\u001b[0;34m\u001b[0m\u001b[0m\n\u001b[0m\u001b[1;32m    288\u001b[0m                 \u001b[0;31m# transpose font optionally\u001b[0m\u001b[0;34m\u001b[0m\u001b[0;34m\u001b[0m\u001b[0m\n\u001b[1;32m    289\u001b[0m                 \u001b[0;32mif\u001b[0m \u001b[0mrandom_state\u001b[0m\u001b[0;34m.\u001b[0m\u001b[0mrandom\u001b[0m\u001b[0;34m(\u001b[0m\u001b[0;34m)\u001b[0m \u001b[0;34m<\u001b[0m \u001b[0mself\u001b[0m\u001b[0;34m.\u001b[0m\u001b[0mprefer_horizontal\u001b[0m\u001b[0;34m:\u001b[0m\u001b[0;34m\u001b[0m\u001b[0m\n",
      "\u001b[0;32m/Users/ndanielsen/.virtualenvs/irexmedia/lib/python2.7/site-packages/PIL/ImageFont.pyc\u001b[0m in \u001b[0;36mtruetype\u001b[0;34m(filename, size, index, encoding)\u001b[0m\n\u001b[1;32m    216\u001b[0m     \u001b[0;34m\"Load a truetype font file.\"\u001b[0m\u001b[0;34m\u001b[0m\u001b[0m\n\u001b[1;32m    217\u001b[0m     \u001b[0;32mtry\u001b[0m\u001b[0;34m:\u001b[0m\u001b[0;34m\u001b[0m\u001b[0m\n\u001b[0;32m--> 218\u001b[0;31m         \u001b[0;32mreturn\u001b[0m \u001b[0mFreeTypeFont\u001b[0m\u001b[0;34m(\u001b[0m\u001b[0mfilename\u001b[0m\u001b[0;34m,\u001b[0m \u001b[0msize\u001b[0m\u001b[0;34m,\u001b[0m \u001b[0mindex\u001b[0m\u001b[0;34m,\u001b[0m \u001b[0mencoding\u001b[0m\u001b[0;34m)\u001b[0m\u001b[0;34m\u001b[0m\u001b[0m\n\u001b[0m\u001b[1;32m    219\u001b[0m     \u001b[0;32mexcept\u001b[0m \u001b[0mIOError\u001b[0m\u001b[0;34m:\u001b[0m\u001b[0;34m\u001b[0m\u001b[0m\n\u001b[1;32m    220\u001b[0m         \u001b[0;32mif\u001b[0m \u001b[0msys\u001b[0m\u001b[0;34m.\u001b[0m\u001b[0mplatform\u001b[0m \u001b[0;34m==\u001b[0m \u001b[0;34m\"win32\"\u001b[0m\u001b[0;34m:\u001b[0m\u001b[0;34m\u001b[0m\u001b[0m\n",
      "\u001b[0;32m/Users/ndanielsen/.virtualenvs/irexmedia/lib/python2.7/site-packages/PIL/ImageFont.pyc\u001b[0m in \u001b[0;36m__init__\u001b[0;34m(self, file, size, index, encoding)\u001b[0m\n\u001b[1;32m    132\u001b[0m     \u001b[0;32mdef\u001b[0m \u001b[0m__init__\u001b[0m\u001b[0;34m(\u001b[0m\u001b[0mself\u001b[0m\u001b[0;34m,\u001b[0m \u001b[0mfile\u001b[0m\u001b[0;34m,\u001b[0m \u001b[0msize\u001b[0m\u001b[0;34m,\u001b[0m \u001b[0mindex\u001b[0m\u001b[0;34m=\u001b[0m\u001b[0;36m0\u001b[0m\u001b[0;34m,\u001b[0m \u001b[0mencoding\u001b[0m\u001b[0;34m=\u001b[0m\u001b[0;34m\"\"\u001b[0m\u001b[0;34m)\u001b[0m\u001b[0;34m:\u001b[0m\u001b[0;34m\u001b[0m\u001b[0m\n\u001b[1;32m    133\u001b[0m         \u001b[0;31m# FIXME: use service provider instead\u001b[0m\u001b[0;34m\u001b[0m\u001b[0;34m\u001b[0m\u001b[0m\n\u001b[0;32m--> 134\u001b[0;31m         \u001b[0mself\u001b[0m\u001b[0;34m.\u001b[0m\u001b[0mfont\u001b[0m \u001b[0;34m=\u001b[0m \u001b[0mcore\u001b[0m\u001b[0;34m.\u001b[0m\u001b[0mgetfont\u001b[0m\u001b[0;34m(\u001b[0m\u001b[0mfile\u001b[0m\u001b[0;34m,\u001b[0m \u001b[0msize\u001b[0m\u001b[0;34m,\u001b[0m \u001b[0mindex\u001b[0m\u001b[0;34m,\u001b[0m \u001b[0mencoding\u001b[0m\u001b[0;34m)\u001b[0m\u001b[0;34m\u001b[0m\u001b[0m\n\u001b[0m\u001b[1;32m    135\u001b[0m \u001b[0;34m\u001b[0m\u001b[0m\n\u001b[1;32m    136\u001b[0m     \u001b[0;32mdef\u001b[0m \u001b[0mgetname\u001b[0m\u001b[0;34m(\u001b[0m\u001b[0mself\u001b[0m\u001b[0;34m)\u001b[0m\u001b[0;34m:\u001b[0m\u001b[0;34m\u001b[0m\u001b[0m\n",
      "\u001b[0;32m/Users/ndanielsen/.virtualenvs/irexmedia/lib/python2.7/site-packages/PIL/ImageFont.pyc\u001b[0m in \u001b[0;36m__getattr__\u001b[0;34m(self, id)\u001b[0m\n\u001b[1;32m     32\u001b[0m     \u001b[0;31m# module placeholder\u001b[0m\u001b[0;34m\u001b[0m\u001b[0;34m\u001b[0m\u001b[0m\n\u001b[1;32m     33\u001b[0m     \u001b[0;32mdef\u001b[0m \u001b[0m__getattr__\u001b[0m\u001b[0;34m(\u001b[0m\u001b[0mself\u001b[0m\u001b[0;34m,\u001b[0m \u001b[0mid\u001b[0m\u001b[0;34m)\u001b[0m\u001b[0;34m:\u001b[0m\u001b[0;34m\u001b[0m\u001b[0m\n\u001b[0;32m---> 34\u001b[0;31m         \u001b[0;32mraise\u001b[0m \u001b[0mImportError\u001b[0m\u001b[0;34m(\u001b[0m\u001b[0;34m\"The _imagingft C module is not installed\"\u001b[0m\u001b[0;34m)\u001b[0m\u001b[0;34m\u001b[0m\u001b[0m\n\u001b[0m\u001b[1;32m     35\u001b[0m \u001b[0;34m\u001b[0m\u001b[0m\n\u001b[1;32m     36\u001b[0m \u001b[0;32mtry\u001b[0m\u001b[0;34m:\u001b[0m\u001b[0;34m\u001b[0m\u001b[0m\n",
      "\u001b[0;31mImportError\u001b[0m: The _imagingft C module is not installed"
     ]
    }
   ],
   "source": [
    "\n",
    "from os import path\n",
    "from wordcloud import WordCloud\n",
    "\n",
    "# d = path.dirname(__file__)\n",
    "\n",
    "# Read the whole text.\n",
    "text = df.headline.to_string()\n",
    "\n",
    "# Generate a word cloud image\n",
    "wordcloud = WordCloud().generate(text)\n",
    "\n",
    "# Display the generated image:\n",
    "# the matplotlib way:\n",
    "import matplotlib.pyplot as plt\n",
    "plt.imshow(wordcloud)\n",
    "plt.axis(\"off\")\n",
    "\n",
    "# take relative word frequencies into account, lower max_font_size\n",
    "wordcloud = WordCloud(max_font_size=40, relative_scaling=.5).generate(text)\n",
    "plt.figure()\n",
    "plt.imshow(wordcloud)\n",
    "plt.axis(\"off\")\n",
    "plt.show()\n",
    "\n",
    "# The pil way (if you don't have matplotlib)\n",
    "#image = wordcloud.to_image()\n",
    "#image.show()"
   ]
  },
  {
   "cell_type": "code",
   "execution_count": null,
   "metadata": {
    "collapsed": true
   },
   "outputs": [],
   "source": []
  }
 ],
 "metadata": {
  "kernelspec": {
   "display_name": "Python 2",
   "language": "python",
   "name": "python2"
  },
  "language_info": {
   "codemirror_mode": {
    "name": "ipython",
    "version": 2
   },
   "file_extension": ".py",
   "mimetype": "text/x-python",
   "name": "python",
   "nbconvert_exporter": "python",
   "pygments_lexer": "ipython2",
   "version": "2.7.10"
  }
 },
 "nbformat": 4,
 "nbformat_minor": 0
}
